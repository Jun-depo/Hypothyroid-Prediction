{
 "cells": [
  {
   "cell_type": "markdown",
   "metadata": {},
   "source": [
    "### Classification of hypothroid diseases with balanced training data.¶ \n",
    "There are 4 classes of samples in the data set, labeled as  {'negative': 0,   'primary hypothyroid': 1, 'compensated hypothyroid': 2,   'secondary hypothyroid': 3 } .   There only two instances of class 3.  The porject was mainly focus on class 1 and 2 classification.  "
   ]
  },
  {
   "cell_type": "markdown",
   "metadata": {},
   "source": [
    "The data set contains 92. 1% negative instances (2580) and 7.9% disease instances (220). Therefore, the trained model on the original data set would attemp to fit the negative majority.  This may lead to the underperformance of the disease prediction (class 1 and 2). "
   ]
  },
  {
   "cell_type": "markdown",
   "metadata": {},
   "source": [
    "I separated each classes of data, then combined randomly selected 436 class 0 instances with all class 1 and 2 instances (218) at 2: 1 ratio.  The data set is much more balanced, sightly bias toward class 0 to reflect the bias in the original data set.  There are only 2 instances of class 3 , not further analysed here.   "
   ]
  },
  {
   "cell_type": "markdown",
   "metadata": {},
   "source": [
    "Finally, I compared the model trained with the unbalanced and balanced data sets in test data prediction.  The  model trained with the balanced data set has 0.06 improvement in weighted average f1-score of class 1 and 2."
   ]
  },
  {
   "cell_type": "markdown",
   "metadata": {},
   "source": [
    "Data set:  http://archive.ics.uci.edu/ml/datasets/thyroid+disease\n",
    "\"allhypo.data\" was used in the analysis, and \"allhypo.names\" for column names.  "
   ]
  },
  {
   "cell_type": "code",
   "execution_count": 1,
   "metadata": {},
   "outputs": [],
   "source": [
    "import numpy as np\n",
    "import pandas as pd\n",
    "import matplotlib.pyplot as plt\n",
    "%matplotlib inline"
   ]
  },
  {
   "cell_type": "code",
   "execution_count": 2,
   "metadata": {},
   "outputs": [],
   "source": [
    "### The data was already cleaned and scaled in hypothyroid_data_processing.ipynb \n",
    "df=pd.read_csv('hypodata_clean_scaled.csv')"
   ]
  },
  {
   "cell_type": "code",
   "execution_count": 3,
   "metadata": {},
   "outputs": [
    {
     "data": {
      "text/html": [
       "<div>\n",
       "<style scoped>\n",
       "    .dataframe tbody tr th:only-of-type {\n",
       "        vertical-align: middle;\n",
       "    }\n",
       "\n",
       "    .dataframe tbody tr th {\n",
       "        vertical-align: top;\n",
       "    }\n",
       "\n",
       "    .dataframe thead th {\n",
       "        text-align: right;\n",
       "    }\n",
       "</style>\n",
       "<table border=\"1\" class=\"dataframe\">\n",
       "  <thead>\n",
       "    <tr style=\"text-align: right;\">\n",
       "      <th></th>\n",
       "      <th>age</th>\n",
       "      <th>sex</th>\n",
       "      <th>on thyroxine</th>\n",
       "      <th>query on thyroxine</th>\n",
       "      <th>on antithyroid medication</th>\n",
       "      <th>sick</th>\n",
       "      <th>pregnant</th>\n",
       "      <th>thyroid surgery</th>\n",
       "      <th>I131 treatment</th>\n",
       "      <th>query hypothyroid</th>\n",
       "      <th>...</th>\n",
       "      <th>tumor</th>\n",
       "      <th>hypopituitary</th>\n",
       "      <th>psych</th>\n",
       "      <th>TSH</th>\n",
       "      <th>T3</th>\n",
       "      <th>TT4</th>\n",
       "      <th>T4U</th>\n",
       "      <th>FTI</th>\n",
       "      <th>referral source</th>\n",
       "      <th>classes</th>\n",
       "    </tr>\n",
       "  </thead>\n",
       "  <tbody>\n",
       "    <tr>\n",
       "      <th>0</th>\n",
       "      <td>-0.530085</td>\n",
       "      <td>0.0</td>\n",
       "      <td>0</td>\n",
       "      <td>0</td>\n",
       "      <td>0</td>\n",
       "      <td>0</td>\n",
       "      <td>0</td>\n",
       "      <td>0</td>\n",
       "      <td>0</td>\n",
       "      <td>0</td>\n",
       "      <td>...</td>\n",
       "      <td>0</td>\n",
       "      <td>0</td>\n",
       "      <td>0</td>\n",
       "      <td>-0.165852</td>\n",
       "      <td>0.647720</td>\n",
       "      <td>0.465593</td>\n",
       "      <td>0.773057</td>\n",
       "      <td>-5.748624e-02</td>\n",
       "      <td>3</td>\n",
       "      <td>0</td>\n",
       "    </tr>\n",
       "    <tr>\n",
       "      <th>1</th>\n",
       "      <td>-1.409958</td>\n",
       "      <td>0.0</td>\n",
       "      <td>0</td>\n",
       "      <td>0</td>\n",
       "      <td>0</td>\n",
       "      <td>0</td>\n",
       "      <td>0</td>\n",
       "      <td>0</td>\n",
       "      <td>0</td>\n",
       "      <td>0</td>\n",
       "      <td>...</td>\n",
       "      <td>0</td>\n",
       "      <td>0</td>\n",
       "      <td>0</td>\n",
       "      <td>-0.028139</td>\n",
       "      <td>-0.034052</td>\n",
       "      <td>-0.206738</td>\n",
       "      <td>0.000428</td>\n",
       "      <td>4.593057e-07</td>\n",
       "      <td>0</td>\n",
       "      <td>0</td>\n",
       "    </tr>\n",
       "    <tr>\n",
       "      <th>2</th>\n",
       "      <td>-0.285676</td>\n",
       "      <td>1.0</td>\n",
       "      <td>0</td>\n",
       "      <td>0</td>\n",
       "      <td>0</td>\n",
       "      <td>0</td>\n",
       "      <td>0</td>\n",
       "      <td>0</td>\n",
       "      <td>0</td>\n",
       "      <td>0</td>\n",
       "      <td>...</td>\n",
       "      <td>0</td>\n",
       "      <td>0</td>\n",
       "      <td>0</td>\n",
       "      <td>-0.181591</td>\n",
       "      <td>0.000037</td>\n",
       "      <td>-0.002116</td>\n",
       "      <td>-0.478385</td>\n",
       "      <td>2.961791e-01</td>\n",
       "      <td>0</td>\n",
       "      <td>0</td>\n",
       "    </tr>\n",
       "    <tr>\n",
       "      <th>3</th>\n",
       "      <td>0.887488</td>\n",
       "      <td>0.0</td>\n",
       "      <td>1</td>\n",
       "      <td>0</td>\n",
       "      <td>0</td>\n",
       "      <td>0</td>\n",
       "      <td>0</td>\n",
       "      <td>0</td>\n",
       "      <td>0</td>\n",
       "      <td>0</td>\n",
       "      <td>...</td>\n",
       "      <td>0</td>\n",
       "      <td>0</td>\n",
       "      <td>0</td>\n",
       "      <td>-0.221921</td>\n",
       "      <td>-0.170406</td>\n",
       "      <td>1.927181</td>\n",
       "      <td>0.000428</td>\n",
       "      <td>4.593057e-07</td>\n",
       "      <td>0</td>\n",
       "      <td>0</td>\n",
       "    </tr>\n",
       "    <tr>\n",
       "      <th>4</th>\n",
       "      <td>0.887488</td>\n",
       "      <td>0.0</td>\n",
       "      <td>0</td>\n",
       "      <td>0</td>\n",
       "      <td>0</td>\n",
       "      <td>0</td>\n",
       "      <td>0</td>\n",
       "      <td>0</td>\n",
       "      <td>0</td>\n",
       "      <td>0</td>\n",
       "      <td>...</td>\n",
       "      <td>0</td>\n",
       "      <td>0</td>\n",
       "      <td>0</td>\n",
       "      <td>-0.194378</td>\n",
       "      <td>-1.124887</td>\n",
       "      <td>-1.405240</td>\n",
       "      <td>-0.696027</td>\n",
       "      <td>-1.311391e+00</td>\n",
       "      <td>1</td>\n",
       "      <td>0</td>\n",
       "    </tr>\n",
       "  </tbody>\n",
       "</table>\n",
       "<p>5 rows × 23 columns</p>\n",
       "</div>"
      ],
      "text/plain": [
       "        age  sex  on thyroxine  query on thyroxine  on antithyroid medication  \\\n",
       "0 -0.530085  0.0             0                   0                          0   \n",
       "1 -1.409958  0.0             0                   0                          0   \n",
       "2 -0.285676  1.0             0                   0                          0   \n",
       "3  0.887488  0.0             1                   0                          0   \n",
       "4  0.887488  0.0             0                   0                          0   \n",
       "\n",
       "   sick  pregnant  thyroid surgery  I131 treatment  query hypothyroid  \\\n",
       "0     0         0                0               0                  0   \n",
       "1     0         0                0               0                  0   \n",
       "2     0         0                0               0                  0   \n",
       "3     0         0                0               0                  0   \n",
       "4     0         0                0               0                  0   \n",
       "\n",
       "    ...     tumor  hypopituitary  psych       TSH        T3       TT4  \\\n",
       "0   ...         0              0      0 -0.165852  0.647720  0.465593   \n",
       "1   ...         0              0      0 -0.028139 -0.034052 -0.206738   \n",
       "2   ...         0              0      0 -0.181591  0.000037 -0.002116   \n",
       "3   ...         0              0      0 -0.221921 -0.170406  1.927181   \n",
       "4   ...         0              0      0 -0.194378 -1.124887 -1.405240   \n",
       "\n",
       "        T4U           FTI  referral source  classes  \n",
       "0  0.773057 -5.748624e-02                3        0  \n",
       "1  0.000428  4.593057e-07                0        0  \n",
       "2 -0.478385  2.961791e-01                0        0  \n",
       "3  0.000428  4.593057e-07                0        0  \n",
       "4 -0.696027 -1.311391e+00                1        0  \n",
       "\n",
       "[5 rows x 23 columns]"
      ]
     },
     "execution_count": 3,
     "metadata": {},
     "output_type": "execute_result"
    }
   ],
   "source": [
    "df.head()"
   ]
  },
  {
   "cell_type": "code",
   "execution_count": 4,
   "metadata": {},
   "outputs": [
    {
     "data": {
      "text/plain": [
       "Index(['age', 'sex', 'on thyroxine', 'query on thyroxine',\n",
       "       'on antithyroid medication', 'sick', 'pregnant', 'thyroid surgery',\n",
       "       'I131 treatment', 'query hypothyroid', 'query hyperthyroid', 'lithium',\n",
       "       'goitre', 'tumor', 'hypopituitary', 'psych', 'TSH', 'T3', 'TT4', 'T4U',\n",
       "       'FTI', 'referral source', 'classes'],\n",
       "      dtype='object')"
      ]
     },
     "execution_count": 4,
     "metadata": {},
     "output_type": "execute_result"
    }
   ],
   "source": [
    "df.columns"
   ]
  },
  {
   "cell_type": "code",
   "execution_count": 5,
   "metadata": {},
   "outputs": [],
   "source": [
    "# Get dataframe for class 0 samples. \n",
    "df0 = df[df['classes']==0]"
   ]
  },
  {
   "cell_type": "code",
   "execution_count": 6,
   "metadata": {},
   "outputs": [],
   "source": [
    "# Get dataframe for class 1 samples. \n",
    "df1 = df[df['classes']==1]"
   ]
  },
  {
   "cell_type": "code",
   "execution_count": 7,
   "metadata": {},
   "outputs": [],
   "source": [
    "# Get dataframe for class 2 samples. \n",
    "df2 = df[df['classes']==2]"
   ]
  },
  {
   "cell_type": "code",
   "execution_count": 8,
   "metadata": {},
   "outputs": [],
   "source": [
    "# Get dataframe for class 3 samples. \n",
    "df3 = df[df['classes']==3]"
   ]
  },
  {
   "cell_type": "code",
   "execution_count": 9,
   "metadata": {},
   "outputs": [
    {
     "data": {
      "text/plain": [
       "(2580, 23)"
      ]
     },
     "execution_count": 9,
     "metadata": {},
     "output_type": "execute_result"
    }
   ],
   "source": [
    "# The first number in tuple is sample number.\n",
    "df0.shape"
   ]
  },
  {
   "cell_type": "code",
   "execution_count": 10,
   "metadata": {},
   "outputs": [
    {
     "data": {
      "text/plain": [
       "(64, 23)"
      ]
     },
     "execution_count": 10,
     "metadata": {},
     "output_type": "execute_result"
    }
   ],
   "source": [
    "df1.shape"
   ]
  },
  {
   "cell_type": "code",
   "execution_count": 11,
   "metadata": {},
   "outputs": [
    {
     "data": {
      "text/plain": [
       "(154, 23)"
      ]
     },
     "execution_count": 11,
     "metadata": {},
     "output_type": "execute_result"
    }
   ],
   "source": [
    "df2.shape"
   ]
  },
  {
   "cell_type": "code",
   "execution_count": 12,
   "metadata": {},
   "outputs": [
    {
     "data": {
      "text/plain": [
       "(2, 23)"
      ]
     },
     "execution_count": 12,
     "metadata": {},
     "output_type": "execute_result"
    }
   ],
   "source": [
    "df3.shape\n",
    "### Only 2 samples for class 3, would not be analysed further. "
   ]
  },
  {
   "cell_type": "markdown",
   "metadata": {},
   "source": [
    "#### Total sample number of class1 and 2 is 218."
   ]
  },
  {
   "cell_type": "code",
   "execution_count": 13,
   "metadata": {},
   "outputs": [],
   "source": [
    "from sklearn.utils import shuffle"
   ]
  },
  {
   "cell_type": "code",
   "execution_count": 14,
   "metadata": {},
   "outputs": [
    {
     "data": {
      "text/html": [
       "<div>\n",
       "<style scoped>\n",
       "    .dataframe tbody tr th:only-of-type {\n",
       "        vertical-align: middle;\n",
       "    }\n",
       "\n",
       "    .dataframe tbody tr th {\n",
       "        vertical-align: top;\n",
       "    }\n",
       "\n",
       "    .dataframe thead th {\n",
       "        text-align: right;\n",
       "    }\n",
       "</style>\n",
       "<table border=\"1\" class=\"dataframe\">\n",
       "  <thead>\n",
       "    <tr style=\"text-align: right;\">\n",
       "      <th></th>\n",
       "      <th>age</th>\n",
       "      <th>sex</th>\n",
       "      <th>on thyroxine</th>\n",
       "      <th>query on thyroxine</th>\n",
       "      <th>on antithyroid medication</th>\n",
       "      <th>sick</th>\n",
       "      <th>pregnant</th>\n",
       "      <th>thyroid surgery</th>\n",
       "      <th>I131 treatment</th>\n",
       "      <th>query hypothyroid</th>\n",
       "      <th>...</th>\n",
       "      <th>tumor</th>\n",
       "      <th>hypopituitary</th>\n",
       "      <th>psych</th>\n",
       "      <th>TSH</th>\n",
       "      <th>T3</th>\n",
       "      <th>TT4</th>\n",
       "      <th>T4U</th>\n",
       "      <th>FTI</th>\n",
       "      <th>referral source</th>\n",
       "      <th>classes</th>\n",
       "    </tr>\n",
       "  </thead>\n",
       "  <tbody>\n",
       "    <tr>\n",
       "      <th>391</th>\n",
       "      <td>-0.432321</td>\n",
       "      <td>1.0</td>\n",
       "      <td>0</td>\n",
       "      <td>0</td>\n",
       "      <td>0</td>\n",
       "      <td>0</td>\n",
       "      <td>0</td>\n",
       "      <td>0</td>\n",
       "      <td>0</td>\n",
       "      <td>0</td>\n",
       "      <td>...</td>\n",
       "      <td>0</td>\n",
       "      <td>0</td>\n",
       "      <td>0</td>\n",
       "      <td>-0.121587</td>\n",
       "      <td>0.375011</td>\n",
       "      <td>-0.645214</td>\n",
       "      <td>-0.369564</td>\n",
       "      <td>-5.397572e-01</td>\n",
       "      <td>0</td>\n",
       "      <td>0</td>\n",
       "    </tr>\n",
       "    <tr>\n",
       "      <th>1343</th>\n",
       "      <td>0.056497</td>\n",
       "      <td>0.0</td>\n",
       "      <td>0</td>\n",
       "      <td>0</td>\n",
       "      <td>0</td>\n",
       "      <td>0</td>\n",
       "      <td>0</td>\n",
       "      <td>0</td>\n",
       "      <td>0</td>\n",
       "      <td>0</td>\n",
       "      <td>...</td>\n",
       "      <td>0</td>\n",
       "      <td>0</td>\n",
       "      <td>0</td>\n",
       "      <td>-0.000007</td>\n",
       "      <td>0.000037</td>\n",
       "      <td>-0.000011</td>\n",
       "      <td>0.000428</td>\n",
       "      <td>4.593057e-07</td>\n",
       "      <td>0</td>\n",
       "      <td>0</td>\n",
       "    </tr>\n",
       "    <tr>\n",
       "      <th>1464</th>\n",
       "      <td>-1.067785</td>\n",
       "      <td>0.0</td>\n",
       "      <td>0</td>\n",
       "      <td>0</td>\n",
       "      <td>0</td>\n",
       "      <td>0</td>\n",
       "      <td>0</td>\n",
       "      <td>0</td>\n",
       "      <td>0</td>\n",
       "      <td>0</td>\n",
       "      <td>...</td>\n",
       "      <td>0</td>\n",
       "      <td>0</td>\n",
       "      <td>0</td>\n",
       "      <td>0.030880</td>\n",
       "      <td>0.102302</td>\n",
       "      <td>-0.499056</td>\n",
       "      <td>0.283362</td>\n",
       "      <td>-7.326656e-01</td>\n",
       "      <td>0</td>\n",
       "      <td>0</td>\n",
       "    </tr>\n",
       "    <tr>\n",
       "      <th>705</th>\n",
       "      <td>-0.432321</td>\n",
       "      <td>0.0</td>\n",
       "      <td>1</td>\n",
       "      <td>0</td>\n",
       "      <td>0</td>\n",
       "      <td>0</td>\n",
       "      <td>0</td>\n",
       "      <td>0</td>\n",
       "      <td>0</td>\n",
       "      <td>0</td>\n",
       "      <td>...</td>\n",
       "      <td>0</td>\n",
       "      <td>0</td>\n",
       "      <td>0</td>\n",
       "      <td>-0.184542</td>\n",
       "      <td>0.375011</td>\n",
       "      <td>-0.469824</td>\n",
       "      <td>-0.750438</td>\n",
       "      <td>-8.963763e-02</td>\n",
       "      <td>3</td>\n",
       "      <td>0</td>\n",
       "    </tr>\n",
       "    <tr>\n",
       "      <th>1199</th>\n",
       "      <td>0.545315</td>\n",
       "      <td>0.0</td>\n",
       "      <td>0</td>\n",
       "      <td>0</td>\n",
       "      <td>0</td>\n",
       "      <td>0</td>\n",
       "      <td>0</td>\n",
       "      <td>0</td>\n",
       "      <td>0</td>\n",
       "      <td>0</td>\n",
       "      <td>...</td>\n",
       "      <td>0</td>\n",
       "      <td>0</td>\n",
       "      <td>0</td>\n",
       "      <td>-0.196838</td>\n",
       "      <td>-0.306761</td>\n",
       "      <td>-0.060579</td>\n",
       "      <td>-0.804848</td>\n",
       "      <td>4.890875e-01</td>\n",
       "      <td>0</td>\n",
       "      <td>0</td>\n",
       "    </tr>\n",
       "  </tbody>\n",
       "</table>\n",
       "<p>5 rows × 23 columns</p>\n",
       "</div>"
      ],
      "text/plain": [
       "           age  sex  on thyroxine  query on thyroxine  \\\n",
       "391  -0.432321  1.0             0                   0   \n",
       "1343  0.056497  0.0             0                   0   \n",
       "1464 -1.067785  0.0             0                   0   \n",
       "705  -0.432321  0.0             1                   0   \n",
       "1199  0.545315  0.0             0                   0   \n",
       "\n",
       "      on antithyroid medication  sick  pregnant  thyroid surgery  \\\n",
       "391                           0     0         0                0   \n",
       "1343                          0     0         0                0   \n",
       "1464                          0     0         0                0   \n",
       "705                           0     0         0                0   \n",
       "1199                          0     0         0                0   \n",
       "\n",
       "      I131 treatment  query hypothyroid   ...     tumor  hypopituitary  psych  \\\n",
       "391                0                  0   ...         0              0      0   \n",
       "1343               0                  0   ...         0              0      0   \n",
       "1464               0                  0   ...         0              0      0   \n",
       "705                0                  0   ...         0              0      0   \n",
       "1199               0                  0   ...         0              0      0   \n",
       "\n",
       "           TSH        T3       TT4       T4U           FTI  referral source  \\\n",
       "391  -0.121587  0.375011 -0.645214 -0.369564 -5.397572e-01                0   \n",
       "1343 -0.000007  0.000037 -0.000011  0.000428  4.593057e-07                0   \n",
       "1464  0.030880  0.102302 -0.499056  0.283362 -7.326656e-01                0   \n",
       "705  -0.184542  0.375011 -0.469824 -0.750438 -8.963763e-02                3   \n",
       "1199 -0.196838 -0.306761 -0.060579 -0.804848  4.890875e-01                0   \n",
       "\n",
       "      classes  \n",
       "391         0  \n",
       "1343        0  \n",
       "1464        0  \n",
       "705         0  \n",
       "1199        0  \n",
       "\n",
       "[5 rows x 23 columns]"
      ]
     },
     "execution_count": 14,
     "metadata": {},
     "output_type": "execute_result"
    }
   ],
   "source": [
    "shuffle(df0).head()\n",
    "# random shuffle class 0 data"
   ]
  },
  {
   "cell_type": "code",
   "execution_count": 15,
   "metadata": {},
   "outputs": [],
   "source": [
    "df0_ran_shu = shuffle(df0).iloc[0:436]\n",
    "# pick 436 class 0 data (2X (class1+class2)sample No.)"
   ]
  },
  {
   "cell_type": "code",
   "execution_count": 16,
   "metadata": {},
   "outputs": [],
   "source": [
    "df_merg = pd.concat([df1, df2, df0_ran_shu])\n",
    "# merge class 0, 1 and 2 data"
   ]
  },
  {
   "cell_type": "code",
   "execution_count": 17,
   "metadata": {},
   "outputs": [
    {
     "data": {
      "text/plain": [
       "(654, 23)"
      ]
     },
     "execution_count": 17,
     "metadata": {},
     "output_type": "execute_result"
    }
   ],
   "source": [
    "df_merg.shape"
   ]
  },
  {
   "cell_type": "code",
   "execution_count": 18,
   "metadata": {},
   "outputs": [],
   "source": [
    "X=df_merg[['age', 'sex', 'on thyroxine', 'query on thyroxine',\n",
    "       'on antithyroid medication', 'sick', 'pregnant', 'thyroid surgery',\n",
    "       'I131 treatment', 'query hypothyroid', 'query hyperthyroid', 'lithium',\n",
    "       'goitre', 'tumor', 'hypopituitary', 'psych', 'TSH', 'T3', 'TT4', 'T4U',\n",
    "       'FTI']]"
   ]
  },
  {
   "cell_type": "code",
   "execution_count": 19,
   "metadata": {},
   "outputs": [],
   "source": [
    "y=df_merg['classes']"
   ]
  },
  {
   "cell_type": "code",
   "execution_count": 20,
   "metadata": {},
   "outputs": [],
   "source": [
    "from sklearn.model_selection import train_test_split"
   ]
  },
  {
   "cell_type": "code",
   "execution_count": 21,
   "metadata": {},
   "outputs": [],
   "source": [
    "X_train, X_tem, y_train, y_tem = train_test_split(X, y, test_size=0.6, random_state=101)"
   ]
  },
  {
   "cell_type": "code",
   "execution_count": 22,
   "metadata": {},
   "outputs": [],
   "source": [
    "X_cv, X_test, y_cv, y_test = train_test_split(X_tem, y_tem, test_size=0.5, random_state=101)"
   ]
  },
  {
   "cell_type": "code",
   "execution_count": 23,
   "metadata": {},
   "outputs": [],
   "source": [
    "from sklearn.metrics import classification_report"
   ]
  },
  {
   "cell_type": "code",
   "execution_count": 24,
   "metadata": {},
   "outputs": [],
   "source": [
    "from sklearn.neural_network import MLPClassifier"
   ]
  },
  {
   "cell_type": "code",
   "execution_count": 25,
   "metadata": {},
   "outputs": [],
   "source": [
    "clf_nn1 = MLPClassifier(solver='lbfgs', alpha=0.001, hidden_layer_sizes=(8,8), max_iter=200).fit(X_train, y_train)"
   ]
  },
  {
   "cell_type": "code",
   "execution_count": 26,
   "metadata": {},
   "outputs": [],
   "source": [
    "clf_nn2 = MLPClassifier(solver='lbfgs', alpha=0.003, hidden_layer_sizes=(8,8), max_iter=200).fit(X_train, y_train)"
   ]
  },
  {
   "cell_type": "code",
   "execution_count": 27,
   "metadata": {},
   "outputs": [],
   "source": [
    "clf_nn3 = MLPClassifier(solver='lbfgs', alpha=0.01, hidden_layer_sizes=(8,8), max_iter=200).fit(X_train, y_train)"
   ]
  },
  {
   "cell_type": "code",
   "execution_count": 28,
   "metadata": {},
   "outputs": [],
   "source": [
    "clf_nn4 = MLPClassifier(solver='lbfgs', alpha=0.03, hidden_layer_sizes=(8,8), max_iter=200).fit(X_train, y_train)"
   ]
  },
  {
   "cell_type": "code",
   "execution_count": 29,
   "metadata": {},
   "outputs": [],
   "source": [
    "clf_nn5 = MLPClassifier(solver='lbfgs', alpha=0.1, hidden_layer_sizes=(8,8), max_iter=200).fit(X_train, y_train)"
   ]
  },
  {
   "cell_type": "code",
   "execution_count": 30,
   "metadata": {},
   "outputs": [],
   "source": [
    "clf_nn6 = MLPClassifier(solver='lbfgs', alpha=0.3, hidden_layer_sizes=(8,8), max_iter=200).fit(X_train, y_train)"
   ]
  },
  {
   "cell_type": "code",
   "execution_count": 31,
   "metadata": {},
   "outputs": [],
   "source": [
    "clf_nn7 = MLPClassifier(solver='lbfgs', alpha=1, hidden_layer_sizes=(8,8), max_iter=200).fit(X_train, y_train)"
   ]
  },
  {
   "cell_type": "code",
   "execution_count": 32,
   "metadata": {},
   "outputs": [],
   "source": [
    "clf_nn8 = MLPClassifier(solver='lbfgs', alpha=8, hidden_layer_sizes=(8,8), max_iter=200).fit(X_train, y_train)"
   ]
  },
  {
   "cell_type": "code",
   "execution_count": 33,
   "metadata": {},
   "outputs": [],
   "source": [
    "clf_nn9 = MLPClassifier(solver='lbfgs', alpha=0.001, hidden_layer_sizes=(12,8), max_iter=200).fit(X_train, y_train)"
   ]
  },
  {
   "cell_type": "code",
   "execution_count": 34,
   "metadata": {},
   "outputs": [],
   "source": [
    "clf_nn10 = MLPClassifier(solver='lbfgs', alpha=0.003, hidden_layer_sizes=(12,8), max_iter=200).fit(X_train, y_train)"
   ]
  },
  {
   "cell_type": "code",
   "execution_count": 35,
   "metadata": {},
   "outputs": [],
   "source": [
    "clf_nn11 = MLPClassifier(solver='lbfgs', alpha=0.01, hidden_layer_sizes=(12,8), max_iter=200).fit(X_train, y_train)"
   ]
  },
  {
   "cell_type": "code",
   "execution_count": 36,
   "metadata": {},
   "outputs": [],
   "source": [
    "clf_nn12 = MLPClassifier(solver='lbfgs', alpha=0.03, hidden_layer_sizes=(12,8), max_iter=200).fit(X_train, y_train)"
   ]
  },
  {
   "cell_type": "code",
   "execution_count": 37,
   "metadata": {},
   "outputs": [],
   "source": [
    "clf_nn13 = MLPClassifier(solver='lbfgs', alpha=0.1, hidden_layer_sizes=(12,8), max_iter=200).fit(X_train, y_train)"
   ]
  },
  {
   "cell_type": "code",
   "execution_count": 38,
   "metadata": {},
   "outputs": [],
   "source": [
    "clf_nn14 = MLPClassifier(solver='lbfgs', alpha=0.3, hidden_layer_sizes=(12,8), max_iter=200).fit(X_train, y_train)"
   ]
  },
  {
   "cell_type": "code",
   "execution_count": 39,
   "metadata": {},
   "outputs": [],
   "source": [
    "clf_nn15 = MLPClassifier(solver='lbfgs', alpha=1, hidden_layer_sizes=(12,8), max_iter=200).fit(X_train, y_train)"
   ]
  },
  {
   "cell_type": "code",
   "execution_count": 40,
   "metadata": {},
   "outputs": [],
   "source": [
    "clf_nn16 = MLPClassifier(solver='lbfgs', alpha=3, hidden_layer_sizes=(12,8), max_iter=200).fit(X_train, y_train)"
   ]
  },
  {
   "cell_type": "code",
   "execution_count": 41,
   "metadata": {},
   "outputs": [],
   "source": [
    "nn_lst = [clf_nn1, clf_nn2, clf_nn3, clf_nn4, clf_nn5, clf_nn6, clf_nn7, clf_nn8, clf_nn9, clf_nn10, clf_nn11, \n",
    "          clf_nn12, clf_nn13, clf_nn14, clf_nn15, clf_nn16]"
   ]
  },
  {
   "cell_type": "code",
   "execution_count": 42,
   "metadata": {},
   "outputs": [
    {
     "name": "stdout",
     "output_type": "stream",
     "text": [
      "Neural Network model  1 \n",
      "Classification report on trainng data\n",
      "              precision    recall  f1-score   support\n",
      "\n",
      "          0       1.00      1.00      1.00       184\n",
      "          1       1.00      0.96      0.98        24\n",
      "          2       0.98      1.00      0.99        53\n",
      "\n",
      "avg / total       1.00      1.00      1.00       261\n",
      "\n",
      "Classification report on cross-validation data\n",
      "              precision    recall  f1-score   support\n",
      "\n",
      "          0       0.98      0.97      0.97       122\n",
      "          1       0.95      0.84      0.89        25\n",
      "          2       0.85      0.92      0.88        49\n",
      "\n",
      "avg / total       0.94      0.94      0.94       196\n",
      "\n",
      "Neural Network model  2 \n",
      "Classification report on trainng data\n",
      "              precision    recall  f1-score   support\n",
      "\n",
      "          0       1.00      1.00      1.00       184\n",
      "          1       0.96      0.96      0.96        24\n",
      "          2       0.98      0.98      0.98        53\n",
      "\n",
      "avg / total       0.99      0.99      0.99       261\n",
      "\n",
      "Classification report on cross-validation data\n",
      "              precision    recall  f1-score   support\n",
      "\n",
      "          0       0.94      0.98      0.96       122\n",
      "          1       0.78      0.72      0.75        25\n",
      "          2       0.80      0.76      0.78        49\n",
      "\n",
      "avg / total       0.89      0.89      0.89       196\n",
      "\n",
      "Neural Network model  3 \n",
      "Classification report on trainng data\n",
      "              precision    recall  f1-score   support\n",
      "\n",
      "          0       1.00      1.00      1.00       184\n",
      "          1       1.00      1.00      1.00        24\n",
      "          2       1.00      1.00      1.00        53\n",
      "\n",
      "avg / total       1.00      1.00      1.00       261\n",
      "\n",
      "Classification report on cross-validation data\n",
      "              precision    recall  f1-score   support\n",
      "\n",
      "          0       0.97      0.98      0.97       122\n",
      "          1       0.80      0.64      0.71        25\n",
      "          2       0.77      0.84      0.80        49\n",
      "\n",
      "avg / total       0.90      0.90      0.90       196\n",
      "\n",
      "Neural Network model  4 \n",
      "Classification report on trainng data\n",
      "              precision    recall  f1-score   support\n",
      "\n",
      "          0       1.00      1.00      1.00       184\n",
      "          1       1.00      1.00      1.00        24\n",
      "          2       1.00      1.00      1.00        53\n",
      "\n",
      "avg / total       1.00      1.00      1.00       261\n",
      "\n",
      "Classification report on cross-validation data\n",
      "              precision    recall  f1-score   support\n",
      "\n",
      "          0       0.96      0.98      0.97       122\n",
      "          1       0.80      0.96      0.87        25\n",
      "          2       0.93      0.80      0.86        49\n",
      "\n",
      "avg / total       0.93      0.93      0.93       196\n",
      "\n",
      "Neural Network model  5 \n",
      "Classification report on trainng data\n",
      "              precision    recall  f1-score   support\n",
      "\n",
      "          0       1.00      1.00      1.00       184\n",
      "          1       1.00      1.00      1.00        24\n",
      "          2       1.00      1.00      1.00        53\n",
      "\n",
      "avg / total       1.00      1.00      1.00       261\n",
      "\n",
      "Classification report on cross-validation data\n",
      "              precision    recall  f1-score   support\n",
      "\n",
      "          0       0.98      0.98      0.98       122\n",
      "          1       0.92      0.96      0.94        25\n",
      "          2       0.94      0.92      0.93        49\n",
      "\n",
      "avg / total       0.96      0.96      0.96       196\n",
      "\n",
      "Neural Network model  6 \n",
      "Classification report on trainng data\n",
      "              precision    recall  f1-score   support\n",
      "\n",
      "          0       1.00      1.00      1.00       184\n",
      "          1       1.00      1.00      1.00        24\n",
      "          2       1.00      1.00      1.00        53\n",
      "\n",
      "avg / total       1.00      1.00      1.00       261\n",
      "\n",
      "Classification report on cross-validation data\n",
      "              precision    recall  f1-score   support\n",
      "\n",
      "          0       0.96      0.98      0.97       122\n",
      "          1       0.86      0.96      0.91        25\n",
      "          2       0.93      0.82      0.87        49\n",
      "\n",
      "avg / total       0.94      0.94      0.94       196\n",
      "\n",
      "Neural Network model  7 \n",
      "Classification report on trainng data\n",
      "              precision    recall  f1-score   support\n",
      "\n",
      "          0       1.00      1.00      1.00       184\n",
      "          1       1.00      0.96      0.98        24\n",
      "          2       0.98      1.00      0.99        53\n",
      "\n",
      "avg / total       1.00      1.00      1.00       261\n",
      "\n",
      "Classification report on cross-validation data\n",
      "              precision    recall  f1-score   support\n",
      "\n",
      "          0       0.97      0.98      0.98       122\n",
      "          1       0.96      0.96      0.96        25\n",
      "          2       0.94      0.90      0.92        49\n",
      "\n",
      "avg / total       0.96      0.96      0.96       196\n",
      "\n",
      "Neural Network model  8 \n",
      "Classification report on trainng data\n",
      "              precision    recall  f1-score   support\n",
      "\n",
      "          0       0.92      0.98      0.95       184\n",
      "          1       0.95      0.75      0.84        24\n",
      "          2       0.82      0.70      0.76        53\n",
      "\n",
      "avg / total       0.90      0.90      0.90       261\n",
      "\n",
      "Classification report on cross-validation data\n",
      "              precision    recall  f1-score   support\n",
      "\n",
      "          0       0.88      0.98      0.93       122\n",
      "          1       0.90      0.72      0.80        25\n",
      "          2       0.78      0.63      0.70        49\n",
      "\n",
      "avg / total       0.86      0.86      0.86       196\n",
      "\n",
      "Neural Network model  9 \n",
      "Classification report on trainng data\n",
      "              precision    recall  f1-score   support\n",
      "\n",
      "          0       0.99      1.00      1.00       184\n",
      "          1       1.00      0.92      0.96        24\n",
      "          2       0.96      0.98      0.97        53\n",
      "\n",
      "avg / total       0.99      0.99      0.99       261\n",
      "\n",
      "Classification report on cross-validation data\n",
      "              precision    recall  f1-score   support\n",
      "\n",
      "          0       0.97      0.98      0.97       122\n",
      "          1       0.96      0.88      0.92        25\n",
      "          2       0.90      0.92      0.91        49\n",
      "\n",
      "avg / total       0.95      0.95      0.95       196\n",
      "\n",
      "Neural Network model  10 \n",
      "Classification report on trainng data\n",
      "              precision    recall  f1-score   support\n",
      "\n",
      "          0       1.00      1.00      1.00       184\n",
      "          1       1.00      1.00      1.00        24\n",
      "          2       1.00      1.00      1.00        53\n",
      "\n",
      "avg / total       1.00      1.00      1.00       261\n",
      "\n",
      "Classification report on cross-validation data\n",
      "              precision    recall  f1-score   support\n",
      "\n",
      "          0       0.98      0.97      0.98       122\n",
      "          1       0.78      0.84      0.81        25\n",
      "          2       0.86      0.86      0.86        49\n",
      "\n",
      "avg / total       0.93      0.92      0.92       196\n",
      "\n",
      "Neural Network model  11 \n",
      "Classification report on trainng data\n",
      "              precision    recall  f1-score   support\n",
      "\n",
      "          0       1.00      1.00      1.00       184\n",
      "          1       1.00      1.00      1.00        24\n",
      "          2       1.00      1.00      1.00        53\n",
      "\n",
      "avg / total       1.00      1.00      1.00       261\n",
      "\n",
      "Classification report on cross-validation data\n",
      "              precision    recall  f1-score   support\n",
      "\n",
      "          0       0.95      0.93      0.94       122\n",
      "          1       0.81      0.88      0.85        25\n",
      "          2       0.84      0.84      0.84        49\n",
      "\n",
      "avg / total       0.90      0.90      0.90       196\n",
      "\n",
      "Neural Network model  12 \n",
      "Classification report on trainng data\n",
      "              precision    recall  f1-score   support\n",
      "\n",
      "          0       1.00      1.00      1.00       184\n",
      "          1       1.00      1.00      1.00        24\n",
      "          2       1.00      1.00      1.00        53\n",
      "\n",
      "avg / total       1.00      1.00      1.00       261\n",
      "\n",
      "Classification report on cross-validation data\n",
      "              precision    recall  f1-score   support\n",
      "\n",
      "          0       0.97      0.98      0.98       122\n",
      "          1       0.88      0.88      0.88        25\n",
      "          2       0.89      0.86      0.88        49\n",
      "\n",
      "avg / total       0.94      0.94      0.94       196\n",
      "\n",
      "Neural Network model  13 \n",
      "Classification report on trainng data\n",
      "              precision    recall  f1-score   support\n",
      "\n",
      "          0       1.00      1.00      1.00       184\n",
      "          1       1.00      1.00      1.00        24\n",
      "          2       1.00      1.00      1.00        53\n",
      "\n",
      "avg / total       1.00      1.00      1.00       261\n",
      "\n",
      "Classification report on cross-validation data\n",
      "              precision    recall  f1-score   support\n",
      "\n",
      "          0       0.95      0.98      0.97       122\n",
      "          1       0.88      0.84      0.86        25\n",
      "          2       0.87      0.82      0.84        49\n",
      "\n",
      "avg / total       0.92      0.92      0.92       196\n",
      "\n",
      "Neural Network model  14 \n",
      "Classification report on trainng data\n",
      "              precision    recall  f1-score   support\n",
      "\n",
      "          0       1.00      1.00      1.00       184\n",
      "          1       1.00      1.00      1.00        24\n",
      "          2       1.00      1.00      1.00        53\n",
      "\n",
      "avg / total       1.00      1.00      1.00       261\n",
      "\n",
      "Classification report on cross-validation data\n",
      "              precision    recall  f1-score   support\n",
      "\n",
      "          0       0.97      0.98      0.98       122\n",
      "          1       0.91      0.84      0.87        25\n",
      "          2       0.88      0.88      0.88        49\n",
      "\n",
      "avg / total       0.94      0.94      0.94       196\n",
      "\n",
      "Neural Network model  15 \n",
      "Classification report on trainng data\n",
      "              precision    recall  f1-score   support\n",
      "\n",
      "          0       1.00      1.00      1.00       184\n",
      "          1       1.00      0.96      0.98        24\n",
      "          2       0.98      1.00      0.99        53\n",
      "\n",
      "avg / total       1.00      1.00      1.00       261\n",
      "\n",
      "Classification report on cross-validation data\n",
      "              precision    recall  f1-score   support\n",
      "\n",
      "          0       0.97      0.98      0.98       122\n",
      "          1       0.92      0.92      0.92        25\n",
      "          2       0.91      0.88      0.90        49\n",
      "\n",
      "avg / total       0.95      0.95      0.95       196\n",
      "\n",
      "Neural Network model  16 \n",
      "Classification report on trainng data\n",
      "              precision    recall  f1-score   support\n",
      "\n",
      "          0       0.99      1.00      0.99       184\n",
      "          1       1.00      0.92      0.96        24\n",
      "          2       0.98      0.98      0.98        53\n",
      "\n",
      "avg / total       0.99      0.99      0.99       261\n",
      "\n",
      "Classification report on cross-validation data\n",
      "              precision    recall  f1-score   support\n",
      "\n",
      "          0       0.95      0.98      0.97       122\n",
      "          1       0.96      0.92      0.94        25\n",
      "          2       0.91      0.86      0.88        49\n",
      "\n",
      "avg / total       0.94      0.94      0.94       196\n",
      "\n"
     ]
    }
   ],
   "source": [
    "for i in range(len(nn_lst)):\n",
    "    print(\"Neural Network model \", i+1, \n",
    "          \"\\nClassification report on trainng data\\n\", classification_report(y_train, nn_lst[i].predict(X_train)))\n",
    "    print(\"Classification report on cross-validation data\\n\", classification_report(y_cv, nn_lst[i].predict(X_cv)))"
   ]
  },
  {
   "cell_type": "markdown",
   "metadata": {},
   "source": [
    "#### roc_auc_score is not supported by sklearn.  I used f1-scores for the model evaluation.  Overall, all models performed similarily. Model nn7  performed better than the others, based on high class 1, class 2 and overall overall f1-score"
   ]
  },
  {
   "cell_type": "code",
   "execution_count": 45,
   "metadata": {},
   "outputs": [],
   "source": [
    "## obtain model weights. \n",
    "W0_7 = clf_nn3.coefs_[0]"
   ]
  },
  {
   "cell_type": "code",
   "execution_count": 46,
   "metadata": {},
   "outputs": [],
   "source": [
    "W1_7 = clf_nn3.coefs_[1]"
   ]
  },
  {
   "cell_type": "code",
   "execution_count": 47,
   "metadata": {},
   "outputs": [],
   "source": [
    "W2_7 = clf_nn3.coefs_[2]"
   ]
  },
  {
   "cell_type": "code",
   "execution_count": 48,
   "metadata": {},
   "outputs": [],
   "source": [
    "# Save the weights, which can be used to reconstruct the model in different environments. \n",
    "np.savetxt('neural_network weight0_balan_data_training.csv', W0_7, delimiter=',')"
   ]
  },
  {
   "cell_type": "code",
   "execution_count": 49,
   "metadata": {},
   "outputs": [],
   "source": [
    "np.savetxt('neural_network weight1_balan_data_training.csv', W1_7, delimiter=',')"
   ]
  },
  {
   "cell_type": "code",
   "execution_count": 50,
   "metadata": {},
   "outputs": [],
   "source": [
    "np.savetxt('neural_network weight2_balan_data_training.csv', W2_7, delimiter=',')"
   ]
  },
  {
   "cell_type": "code",
   "execution_count": 51,
   "metadata": {},
   "outputs": [],
   "source": [
    "### The function exports classification reports as pd DataFrame files. \n",
    "def export_classification_report(report_in):\n",
    "    rep = report_in.split('\\n')\n",
    "    column_names = ['class']\n",
    "    report_out =[]\n",
    "    for i in rep[0].split():\n",
    "        column_names.append(i)\n",
    "    for row in rep[2:6]:\n",
    "        report_out.append(row.split())\n",
    "    if rep[6]!='':\n",
    "        report_out.append(rep[6].split('      '))\n",
    "    elif rep[6]=='' and rep[7]!='':\n",
    "        report_out.append(rep[7].split('      '))\n",
    "        \n",
    "    report_df = pd.DataFrame(report_out)\n",
    "    report_df.columns = column_names\n",
    "    return report_df \n",
    "\n",
    "### The following function calculates weighted average f1-scores of class 1 and class 2.  \n",
    "def f1_score_class_1_2(df, i=1):\n",
    "    return (df.loc[i,\"f1-score\"]*df.loc[i,\"support\"]+df.loc[i+1,\"f1-score\"]*df.loc[i+1,\"support\"])/(df.loc[i,\"support\"]+df.loc[i+1,\"support\"])  "
   ]
  },
  {
   "cell_type": "code",
   "execution_count": 52,
   "metadata": {},
   "outputs": [],
   "source": [
    "# Classification reports were exported as csv files.  \n",
    "export_classification_report(classification_report(y_cv, clf_nn7.predict(X_cv))).to_csv(\"Neural_network clf_nn7 classifi_report_cv_data_bal.csv\", index=False)"
   ]
  },
  {
   "cell_type": "code",
   "execution_count": 84,
   "metadata": {},
   "outputs": [],
   "source": [
    "# the csv file was reopened by pandas as pd DataFrame, that automatically converted numbers in the classification \n",
    "# report from string data type to int and float data type.\n",
    "nn7_cv = pd.read_csv(\"Neural_network clf_nn7 classifi_report_cv_data_bal.csv\")\n",
    "### The best model"
   ]
  },
  {
   "cell_type": "code",
   "execution_count": 85,
   "metadata": {},
   "outputs": [
    {
     "data": {
      "text/html": [
       "<div>\n",
       "<style scoped>\n",
       "    .dataframe tbody tr th:only-of-type {\n",
       "        vertical-align: middle;\n",
       "    }\n",
       "\n",
       "    .dataframe tbody tr th {\n",
       "        vertical-align: top;\n",
       "    }\n",
       "\n",
       "    .dataframe thead th {\n",
       "        text-align: right;\n",
       "    }\n",
       "</style>\n",
       "<table border=\"1\" class=\"dataframe\">\n",
       "  <thead>\n",
       "    <tr style=\"text-align: right;\">\n",
       "      <th></th>\n",
       "      <th>class</th>\n",
       "      <th>precision</th>\n",
       "      <th>recall</th>\n",
       "      <th>f1-score</th>\n",
       "      <th>support</th>\n",
       "    </tr>\n",
       "  </thead>\n",
       "  <tbody>\n",
       "    <tr>\n",
       "      <th>0</th>\n",
       "      <td>0</td>\n",
       "      <td>0.97</td>\n",
       "      <td>0.98</td>\n",
       "      <td>0.98</td>\n",
       "      <td>122.0</td>\n",
       "    </tr>\n",
       "    <tr>\n",
       "      <th>1</th>\n",
       "      <td>1</td>\n",
       "      <td>0.96</td>\n",
       "      <td>0.96</td>\n",
       "      <td>0.96</td>\n",
       "      <td>25.0</td>\n",
       "    </tr>\n",
       "    <tr>\n",
       "      <th>2</th>\n",
       "      <td>2</td>\n",
       "      <td>0.94</td>\n",
       "      <td>0.90</td>\n",
       "      <td>0.92</td>\n",
       "      <td>49.0</td>\n",
       "    </tr>\n",
       "    <tr>\n",
       "      <th>3</th>\n",
       "      <td>NaN</td>\n",
       "      <td>NaN</td>\n",
       "      <td>NaN</td>\n",
       "      <td>NaN</td>\n",
       "      <td>NaN</td>\n",
       "    </tr>\n",
       "    <tr>\n",
       "      <th>4</th>\n",
       "      <td>avg / total</td>\n",
       "      <td>0.96</td>\n",
       "      <td>0.96</td>\n",
       "      <td>0.96</td>\n",
       "      <td>196.0</td>\n",
       "    </tr>\n",
       "  </tbody>\n",
       "</table>\n",
       "</div>"
      ],
      "text/plain": [
       "         class  precision  recall  f1-score  support\n",
       "0            0       0.97    0.98      0.98    122.0\n",
       "1            1       0.96    0.96      0.96     25.0\n",
       "2            2       0.94    0.90      0.92     49.0\n",
       "3          NaN        NaN     NaN       NaN      NaN\n",
       "4  avg / total       0.96    0.96      0.96    196.0"
      ]
     },
     "execution_count": 85,
     "metadata": {},
     "output_type": "execute_result"
    }
   ],
   "source": [
    "nn7_cv"
   ]
  },
  {
   "cell_type": "code",
   "execution_count": 86,
   "metadata": {},
   "outputs": [
    {
     "data": {
      "text/plain": [
       "0.93351351351351364"
      ]
     },
     "execution_count": 86,
     "metadata": {},
     "output_type": "execute_result"
    }
   ],
   "source": [
    "f1_score_class_1_2(nn7_cv, i=1)\n",
    "### Model_nn7's average f1-score for class 1 and 2 for the cross-validation data.  "
   ]
  },
  {
   "cell_type": "code",
   "execution_count": 87,
   "metadata": {},
   "outputs": [],
   "source": [
    "export_classification_report(classification_report(y_test, clf_nn7.predict(X_test))).to_csv(\"Neural network classification report on test data_bal_training_data.csv\", index=False)"
   ]
  },
  {
   "cell_type": "code",
   "execution_count": 88,
   "metadata": {},
   "outputs": [
    {
     "name": "stdout",
     "output_type": "stream",
     "text": [
      "             precision    recall  f1-score   support\n",
      "\n",
      "          0       0.97      0.99      0.98       130\n",
      "          1       1.00      0.73      0.85        15\n",
      "          2       0.92      0.94      0.93        52\n",
      "\n",
      "avg / total       0.96      0.96      0.96       197\n",
      "\n"
     ]
    }
   ],
   "source": [
    "print(classification_report(y_test, clf_nn7.predict(X_test)))"
   ]
  },
  {
   "cell_type": "code",
   "execution_count": 89,
   "metadata": {},
   "outputs": [],
   "source": [
    "### Export nn7 classification report\n",
    "export_classification_report(classification_report(y_test, clf_nn7.predict(X_test))).to_csv(\"Neural_network clf_nn7 classifi_report_test_data_bal_training.csv\", index=False)"
   ]
  },
  {
   "cell_type": "code",
   "execution_count": 90,
   "metadata": {},
   "outputs": [],
   "source": [
    "nn7_test = pd.read_csv(\"Neural_network clf_nn7 classifi_report_test_data_bal_training.csv\")"
   ]
  },
  {
   "cell_type": "code",
   "execution_count": 91,
   "metadata": {},
   "outputs": [
    {
     "data": {
      "text/html": [
       "<div>\n",
       "<style scoped>\n",
       "    .dataframe tbody tr th:only-of-type {\n",
       "        vertical-align: middle;\n",
       "    }\n",
       "\n",
       "    .dataframe tbody tr th {\n",
       "        vertical-align: top;\n",
       "    }\n",
       "\n",
       "    .dataframe thead th {\n",
       "        text-align: right;\n",
       "    }\n",
       "</style>\n",
       "<table border=\"1\" class=\"dataframe\">\n",
       "  <thead>\n",
       "    <tr style=\"text-align: right;\">\n",
       "      <th></th>\n",
       "      <th>class</th>\n",
       "      <th>precision</th>\n",
       "      <th>recall</th>\n",
       "      <th>f1-score</th>\n",
       "      <th>support</th>\n",
       "    </tr>\n",
       "  </thead>\n",
       "  <tbody>\n",
       "    <tr>\n",
       "      <th>0</th>\n",
       "      <td>0</td>\n",
       "      <td>0.97</td>\n",
       "      <td>0.99</td>\n",
       "      <td>0.98</td>\n",
       "      <td>130.0</td>\n",
       "    </tr>\n",
       "    <tr>\n",
       "      <th>1</th>\n",
       "      <td>1</td>\n",
       "      <td>1.00</td>\n",
       "      <td>0.73</td>\n",
       "      <td>0.85</td>\n",
       "      <td>15.0</td>\n",
       "    </tr>\n",
       "    <tr>\n",
       "      <th>2</th>\n",
       "      <td>2</td>\n",
       "      <td>0.92</td>\n",
       "      <td>0.94</td>\n",
       "      <td>0.93</td>\n",
       "      <td>52.0</td>\n",
       "    </tr>\n",
       "    <tr>\n",
       "      <th>3</th>\n",
       "      <td>NaN</td>\n",
       "      <td>NaN</td>\n",
       "      <td>NaN</td>\n",
       "      <td>NaN</td>\n",
       "      <td>NaN</td>\n",
       "    </tr>\n",
       "    <tr>\n",
       "      <th>4</th>\n",
       "      <td>avg / total</td>\n",
       "      <td>0.96</td>\n",
       "      <td>0.96</td>\n",
       "      <td>0.96</td>\n",
       "      <td>197.0</td>\n",
       "    </tr>\n",
       "  </tbody>\n",
       "</table>\n",
       "</div>"
      ],
      "text/plain": [
       "         class  precision  recall  f1-score  support\n",
       "0            0       0.97    0.99      0.98    130.0\n",
       "1            1       1.00    0.73      0.85     15.0\n",
       "2            2       0.92    0.94      0.93     52.0\n",
       "3          NaN        NaN     NaN       NaN      NaN\n",
       "4  avg / total       0.96    0.96      0.96    197.0"
      ]
     },
     "execution_count": 91,
     "metadata": {},
     "output_type": "execute_result"
    }
   ],
   "source": [
    "nn7_test"
   ]
  },
  {
   "cell_type": "code",
   "execution_count": 92,
   "metadata": {},
   "outputs": [
    {
     "data": {
      "text/plain": [
       "0.91208955223880595"
      ]
     },
     "execution_count": 92,
     "metadata": {},
     "output_type": "execute_result"
    }
   ],
   "source": [
    "f1_score_class_1_2(nn7_test, i=1)\n",
    "### nn7 average f1-scores of class1/2 on test data.  "
   ]
  },
  {
   "cell_type": "code",
   "execution_count": 93,
   "metadata": {},
   "outputs": [],
   "source": [
    "from sklearn.externals import joblib"
   ]
  },
  {
   "cell_type": "code",
   "execution_count": 94,
   "metadata": {},
   "outputs": [
    {
     "data": {
      "text/plain": [
       "['neural_network_model_nn7_balanc_training data.pkl']"
      ]
     },
     "execution_count": 94,
     "metadata": {},
     "output_type": "execute_result"
    }
   ],
   "source": [
    "### Export model.  \n",
    "joblib.dump(clf_nn7, 'neural_network_model_nn7_balanc_training data.pkl')"
   ]
  },
  {
   "cell_type": "code",
   "execution_count": 83,
   "metadata": {},
   "outputs": [
    {
     "data": {
      "image/png": "[encoded data removed]",
      "text/plain": [
       "<matplotlib.figure.Figure at 0x7ff6f5146f60>"
      ]
     },
     "metadata": {},
     "output_type": "display_data"
    }
   ],
   "source": [
    "fig, ax = plt.subplots(figsize=(12, 4))\n",
    "x_lst = ['all_classes_unbalanced', 'class 1 and 2 unbalanced', 'all_classes_balanced', 'class 1 and 2 balanced',\n",
    "        'class 0_unbalanced', 'class 0_balanced']\n",
    "h_val = [0.98, 0.849, 0.96, 0.912, 0.99, 0.98]\n",
    "ax.bar(x_lst, h_val, width=0.5)\n",
    "ax.set_ylim((0.6, 1))\n",
    "ax.set_xlabel('Comparison of neural network models trained on balanced or unbalanced training data', fontsize=12)\n",
    "ax.set_ylabel('f1-score', fontsize=12)\n",
    "plt.tight_layout()\n",
    "plt.savefig(\"hypothroid classification f1-scores.png\", dpi=300)"
   ]
  },
  {
   "cell_type": "markdown",
   "metadata": {},
   "source": [
    "#### The weighted average f1-score of class 1 and 2 is about 0.06 better with the model trained with the balanced data than the one trained with unbalanced data.  The average f1-scores of all classes and class 0 is slightly better with the model trained with unbalanced data, consistent with the model tried to fit class 0 instances which are vast majority in the data set.   \n",
    "\n",
    "#### For the disease prediction, the weighted average f1-score for class 1 and 2 is more impotant.  Using balanced training data improved the prediction of the model.  "
   ]
  },
  {
   "cell_type": "code",
   "execution_count": null,
   "metadata": {},
   "outputs": [],
   "source": []
  }
 ],
 "metadata": {
  "kernelspec": {
   "display_name": "Python [conda env:anaconda3]",
   "language": "python",
   "name": "conda-env-anaconda3-py"
  },
  "language_info": {
   "codemirror_mode": {
    "name": "ipython",
    "version": 3
   },
   "file_extension": ".py",
   "mimetype": "text/x-python",
   "name": "python",
   "nbconvert_exporter": "python",
   "pygments_lexer": "ipython3",
   "version": "3.6.2"
  }
 },
 "nbformat": 4,
 "nbformat_minor": 2
}

{
 "cells": [
  {
   "cell_type": "code",
   "execution_count": 1,
   "metadata": {},
   "outputs": [],
   "source": [
    "import pandas as pd\n",
    "import numpy as np\n",
    "from sklearn.preprocessing import OneHotEncoder \n",
    "import sklearn\n",
    "from sklearn.metrics import classification_report, confusion_matrix\n",
    "import matplotlib.pyplot as plt\n",
    "%matplotlib inline"
   ]
  },
  {
   "cell_type": "code",
   "execution_count": 2,
   "metadata": {},
   "outputs": [],
   "source": [
    "from ThyroidDataProcess import data_processing, get_Xy\n",
    "from sklearn.preprocessing import OneHotEncoder"
   ]
  },
  {
   "cell_type": "code",
   "execution_count": 3,
   "metadata": {},
   "outputs": [],
   "source": [
    "train_df_ave_path = 'fillna_training_average.json'"
   ]
  },
  {
   "cell_type": "code",
   "execution_count": 4,
   "metadata": {},
   "outputs": [],
   "source": [
    "df = data_processing(\"allhypo.data.txt\", train_df_ave_path)"
   ]
  },
  {
   "cell_type": "code",
   "execution_count": 5,
   "metadata": {},
   "outputs": [],
   "source": [
    "feature_cat = [ 'sex', 'on thyroxine', 'query on thyroxine','on antithyroid medication', 'sick',\n",
    "               'pregnant', 'thyroid surgery','I131 treatment', 'query hypothyroid', \n",
    "               'query hyperthyroid', 'lithium', 'goitre', 'tumor', 'hypopituitary', 'psych', \n",
    "               'TSH measured', 'T3 measured', 'TT4 measured', 'T4U measured', 'FTI measured', 'referral source']"
   ]
  },
  {
   "cell_type": "code",
   "execution_count": 6,
   "metadata": {},
   "outputs": [],
   "source": [
    "from xgboost import XGBClassifier\n",
    "from sklearn.model_selection import train_test_split"
   ]
  },
  {
   "cell_type": "code",
   "execution_count": 7,
   "metadata": {},
   "outputs": [],
   "source": [
    "def classification_report_df(report_in):\n",
    "    rep = report_in.split('\\n')\n",
    "    column_names = ['class']\n",
    "    report_out =[]\n",
    "    for i in rep[0].split():\n",
    "        column_names.append(i)\n",
    "    for row in rep[2:6]:\n",
    "        report_out.append(row.split())\n",
    "    if rep[6]!='':\n",
    "        report_out.append(rep[6].split('      '))\n",
    "    elif rep[6]=='' and rep[7]!='':\n",
    "        report_out.append(rep[7].split('      '))\n",
    "        \n",
    "    report_df = pd.DataFrame(report_out)\n",
    "    report_df.columns = column_names\n",
    "    return report_df "
   ]
  },
  {
   "cell_type": "markdown",
   "metadata": {},
   "source": [
    "### Numeric feature selection"
   ]
  },
  {
   "cell_type": "code",
   "execution_count": 8,
   "metadata": {},
   "outputs": [],
   "source": [
    "feature_num = ['age','TSH_ln','T3', 'TT4', 'T4U', 'FTI']"
   ]
  },
  {
   "cell_type": "code",
   "execution_count": 9,
   "metadata": {},
   "outputs": [],
   "source": [
    "leng = len(feature_num)"
   ]
  },
  {
   "cell_type": "code",
   "execution_count": 10,
   "metadata": {},
   "outputs": [
    {
     "name": "stderr",
     "output_type": "stream",
     "text": [
      "/home/jun3/anaconda3/lib/python3.7/site-packages/sklearn/preprocessing/_encoders.py:325: FutureWarning: elementwise comparison failed; returning scalar instead, but in the future will perform elementwise comparison\n",
      "  elif self.n_values is not None and self.n_values != 'auto':\n",
      "/home/jun3/anaconda3/lib/python3.7/site-packages/sklearn/preprocessing/_encoders.py:331: DeprecationWarning: Passing 'n_values' is deprecated in version 0.20 and will be removed in 0.22. You can use the 'categories' keyword instead. 'n_values=n' corresponds to 'categories=[range(n)]'.\n",
      "  warnings.warn(msg, DeprecationWarning)\n"
     ]
    },
    {
     "name": "stdout",
     "output_type": "stream",
     "text": [
      "CV Prediction with missing age column\n",
      "               precision    recall  f1-score   support\n",
      "\n",
      "           0       1.00      1.00      1.00       856\n",
      "           1       0.96      0.96      0.96        24\n",
      "           2       0.98      1.00      0.99        44\n",
      "\n",
      "   micro avg       1.00      1.00      1.00       924\n",
      "   macro avg       0.98      0.99      0.98       924\n",
      "weighted avg       1.00      1.00      1.00       924\n",
      "\n"
     ]
    },
    {
     "name": "stderr",
     "output_type": "stream",
     "text": [
      "/home/jun3/anaconda3/lib/python3.7/site-packages/sklearn/preprocessing/_encoders.py:325: FutureWarning: elementwise comparison failed; returning scalar instead, but in the future will perform elementwise comparison\n",
      "  elif self.n_values is not None and self.n_values != 'auto':\n",
      "/home/jun3/anaconda3/lib/python3.7/site-packages/sklearn/preprocessing/_encoders.py:331: DeprecationWarning: Passing 'n_values' is deprecated in version 0.20 and will be removed in 0.22. You can use the 'categories' keyword instead. 'n_values=n' corresponds to 'categories=[range(n)]'.\n",
      "  warnings.warn(msg, DeprecationWarning)\n"
     ]
    },
    {
     "name": "stdout",
     "output_type": "stream",
     "text": [
      "CV Prediction with missing TSH_ln column\n",
      "               precision    recall  f1-score   support\n",
      "\n",
      "           0       0.95      0.99      0.97       856\n",
      "           1       0.83      0.79      0.81        24\n",
      "           2       0.40      0.05      0.08        44\n",
      "\n",
      "   micro avg       0.94      0.94      0.94       924\n",
      "   macro avg       0.72      0.61      0.62       924\n",
      "weighted avg       0.92      0.94      0.92       924\n",
      "\n"
     ]
    },
    {
     "name": "stderr",
     "output_type": "stream",
     "text": [
      "/home/jun3/anaconda3/lib/python3.7/site-packages/sklearn/preprocessing/_encoders.py:325: FutureWarning: elementwise comparison failed; returning scalar instead, but in the future will perform elementwise comparison\n",
      "  elif self.n_values is not None and self.n_values != 'auto':\n",
      "/home/jun3/anaconda3/lib/python3.7/site-packages/sklearn/preprocessing/_encoders.py:331: DeprecationWarning: Passing 'n_values' is deprecated in version 0.20 and will be removed in 0.22. You can use the 'categories' keyword instead. 'n_values=n' corresponds to 'categories=[range(n)]'.\n",
      "  warnings.warn(msg, DeprecationWarning)\n"
     ]
    },
    {
     "name": "stdout",
     "output_type": "stream",
     "text": [
      "CV Prediction with missing T3 column\n",
      "               precision    recall  f1-score   support\n",
      "\n",
      "           0       1.00      1.00      1.00       856\n",
      "           1       0.96      0.96      0.96        24\n",
      "           2       0.98      1.00      0.99        44\n",
      "\n",
      "   micro avg       1.00      1.00      1.00       924\n",
      "   macro avg       0.98      0.99      0.98       924\n",
      "weighted avg       1.00      1.00      1.00       924\n",
      "\n"
     ]
    },
    {
     "name": "stderr",
     "output_type": "stream",
     "text": [
      "/home/jun3/anaconda3/lib/python3.7/site-packages/sklearn/preprocessing/_encoders.py:325: FutureWarning: elementwise comparison failed; returning scalar instead, but in the future will perform elementwise comparison\n",
      "  elif self.n_values is not None and self.n_values != 'auto':\n",
      "/home/jun3/anaconda3/lib/python3.7/site-packages/sklearn/preprocessing/_encoders.py:331: DeprecationWarning: Passing 'n_values' is deprecated in version 0.20 and will be removed in 0.22. You can use the 'categories' keyword instead. 'n_values=n' corresponds to 'categories=[range(n)]'.\n",
      "  warnings.warn(msg, DeprecationWarning)\n",
      "/home/jun3/anaconda3/lib/python3.7/site-packages/sklearn/metrics/classification.py:1145: UndefinedMetricWarning: Recall and F-score are ill-defined and being set to 0.0 in labels with no true samples.\n",
      "  'recall', 'true', average, warn_for)\n",
      "/home/jun3/anaconda3/lib/python3.7/site-packages/sklearn/preprocessing/_encoders.py:325: FutureWarning: elementwise comparison failed; returning scalar instead, but in the future will perform elementwise comparison\n",
      "  elif self.n_values is not None and self.n_values != 'auto':\n",
      "/home/jun3/anaconda3/lib/python3.7/site-packages/sklearn/preprocessing/_encoders.py:331: DeprecationWarning: Passing 'n_values' is deprecated in version 0.20 and will be removed in 0.22. You can use the 'categories' keyword instead. 'n_values=n' corresponds to 'categories=[range(n)]'.\n",
      "  warnings.warn(msg, DeprecationWarning)\n"
     ]
    },
    {
     "name": "stdout",
     "output_type": "stream",
     "text": [
      "CV Prediction with missing TT4 column\n",
      "               precision    recall  f1-score   support\n",
      "\n",
      "           0       1.00      1.00      1.00       856\n",
      "           1       0.96      0.92      0.94        24\n",
      "           2       0.96      1.00      0.98        44\n",
      "           3       0.00      0.00      0.00         0\n",
      "\n",
      "   micro avg       0.99      0.99      0.99       924\n",
      "   macro avg       0.73      0.73      0.73       924\n",
      "weighted avg       1.00      0.99      1.00       924\n",
      "\n",
      "CV Prediction with missing T4U column\n",
      "               precision    recall  f1-score   support\n",
      "\n",
      "           0       1.00      1.00      1.00       856\n",
      "           1       0.96      0.96      0.96        24\n",
      "           2       0.98      1.00      0.99        44\n",
      "\n",
      "   micro avg       1.00      1.00      1.00       924\n",
      "   macro avg       0.98      0.99      0.98       924\n",
      "weighted avg       1.00      1.00      1.00       924\n",
      "\n"
     ]
    },
    {
     "name": "stderr",
     "output_type": "stream",
     "text": [
      "/home/jun3/anaconda3/lib/python3.7/site-packages/sklearn/preprocessing/_encoders.py:325: FutureWarning: elementwise comparison failed; returning scalar instead, but in the future will perform elementwise comparison\n",
      "  elif self.n_values is not None and self.n_values != 'auto':\n",
      "/home/jun3/anaconda3/lib/python3.7/site-packages/sklearn/preprocessing/_encoders.py:331: DeprecationWarning: Passing 'n_values' is deprecated in version 0.20 and will be removed in 0.22. You can use the 'categories' keyword instead. 'n_values=n' corresponds to 'categories=[range(n)]'.\n",
      "  warnings.warn(msg, DeprecationWarning)\n"
     ]
    },
    {
     "name": "stdout",
     "output_type": "stream",
     "text": [
      "CV Prediction with missing FTI column\n",
      "               precision    recall  f1-score   support\n",
      "\n",
      "           0       1.00      1.00      1.00       856\n",
      "           1       0.95      0.79      0.86        24\n",
      "           2       0.88      1.00      0.94        44\n",
      "\n",
      "   micro avg       0.99      0.99      0.99       924\n",
      "   macro avg       0.94      0.93      0.93       924\n",
      "weighted avg       0.99      0.99      0.99       924\n",
      "\n"
     ]
    }
   ],
   "source": [
    "y_cv_pred_dict ={}\n",
    "for i in range(leng):\n",
    "    feature_num = ['age','TSH_ln','T3', 'TT4', 'T4U', 'FTI']\n",
    "    popped = feature_num.pop(i)\n",
    "    X, y = get_Xy(df, feature_cat, feature_num)\n",
    "    X_train, X_cv, y_train, y_cv = train_test_split(X, y, test_size=0.33, random_state=101)\n",
    "    xgb = XGBClassifier()\n",
    "    xgb_model = xgb.fit(X_train, y_train)\n",
    "    # y_train_pred = xgb_model.predict(X_train)\n",
    "    y_cv_pred = xgb_model.predict(X_cv)\n",
    "    report_df = classification_report_df(classification_report(y_cv, y_cv_pred))\n",
    "    y_cv_pred_dict[\"missing \" + popped] = report_df\n",
    "    print(f\"CV Prediction with missing {popped} column\\n\", classification_report(y_cv, y_cv_pred))"
   ]
  },
  {
   "cell_type": "code",
   "execution_count": 11,
   "metadata": {},
   "outputs": [],
   "source": [
    "def predict_with_miss(predict_dict, disease_class=0):\n",
    "    missing_col_names = []\n",
    "    f1_scores = []\n",
    "    for i in predict_dict.keys():\n",
    "        missing_col_names.append(i)\n",
    "        f1_scores.append(float(predict_dict[i][\"f1-score\"][disease_class]))\n",
    "    return missing_col_names, f1_scores        "
   ]
  },
  {
   "cell_type": "code",
   "execution_count": 12,
   "metadata": {},
   "outputs": [
    {
     "data": {
      "image/png": "[encoded data removed]",
      "text/plain": [
       "<Figure size 720x216 with 3 Axes>"
      ]
     },
     "metadata": {
      "needs_background": "light"
     },
     "output_type": "display_data"
    }
   ],
   "source": [
    "fig, ax = plt.subplots(1, 3, figsize=(10, 3))\n",
    "fig.suptitle(\"F1 scores with missing numeric columns\", size=16)\n",
    "for i in range(3):\n",
    "    \n",
    "    class_names, f1_scores = predict_with_miss(y_cv_pred_dict, disease_class=i)\n",
    "    ax[i].barh(class_names, f1_scores, color = 'tab:green', alpha = 0.85)\n",
    "    titles = [\"Class 0 (No disease)\",\n",
    "             \"Class 1 (primary hypothyroid)\",\n",
    "             \"Class 2 (compensated hypothyroid)\"]\n",
    "    ax[i].set_title(titles[i])\n",
    "    plt.tight_layout()\n",
    "plt.subplots_adjust(top=0.80)"
   ]
  },
  {
   "cell_type": "markdown",
   "metadata": {},
   "source": [
    "#### Missing log_transformed_TSH, FTI and TT4 negatively affected class 1 primary hypothyroid prediction the most."
   ]
  },
  {
   "cell_type": "markdown",
   "metadata": {},
   "source": [
    "#### Missing log_transformed_TSH, FTI and TT4 negatively affected class 2 compensated hypothyroid prediction.  It's impossible to predict class 2 hypothyroid with log_transformed_TSH data missing."
   ]
  },
  {
   "cell_type": "markdown",
   "metadata": {},
   "source": [
    "### Categorical feature selection"
   ]
  },
  {
   "cell_type": "code",
   "execution_count": 13,
   "metadata": {},
   "outputs": [],
   "source": [
    "feature_cat_cols = [ 'sex', 'on thyroxine', 'query on thyroxine','on antithyroid medication', 'sick',\n",
    "               'pregnant', 'thyroid surgery','I131 treatment', 'query hypothyroid', \n",
    "               'query hyperthyroid', 'lithium', 'goitre', 'tumor', 'hypopituitary', 'psych', \n",
    "               'TSH measured', 'T3 measured', 'TT4 measured', 'T4U measured', 'FTI measured', 'referral source']"
   ]
  },
  {
   "cell_type": "code",
   "execution_count": 14,
   "metadata": {},
   "outputs": [],
   "source": [
    "feature_num = ['age','TSH_ln','T3', 'TT4', 'T4U', 'FTI']"
   ]
  },
  {
   "cell_type": "code",
   "execution_count": 15,
   "metadata": {},
   "outputs": [
    {
     "data": {
      "text/plain": [
       "21"
      ]
     },
     "execution_count": 15,
     "metadata": {},
     "output_type": "execute_result"
    }
   ],
   "source": [
    "cat_len = len(feature_cat_cols)\n",
    "cat_len"
   ]
  },
  {
   "cell_type": "code",
   "execution_count": 16,
   "metadata": {},
   "outputs": [
    {
     "name": "stdout",
     "output_type": "stream",
     "text": [
      "CV Prediction with missing sex column\n",
      "               precision    recall  f1-score   support\n",
      "\n",
      "           0       1.00      1.00      1.00       856\n",
      "           1       0.96      0.96      0.96        24\n",
      "           2       0.98      1.00      0.99        44\n",
      "\n",
      "   micro avg       1.00      1.00      1.00       924\n",
      "   macro avg       0.98      0.99      0.98       924\n",
      "weighted avg       1.00      1.00      1.00       924\n",
      "\n",
      "CV Prediction with missing on thyroxine column\n",
      "               precision    recall  f1-score   support\n",
      "\n",
      "           0       1.00      0.98      0.99       856\n",
      "           1       0.96      0.92      0.94        24\n",
      "           2       0.69      0.95      0.80        44\n",
      "\n",
      "   micro avg       0.98      0.98      0.98       924\n",
      "   macro avg       0.88      0.95      0.91       924\n",
      "weighted avg       0.98      0.98      0.98       924\n",
      "\n",
      "CV Prediction with missing query on thyroxine column\n",
      "               precision    recall  f1-score   support\n",
      "\n",
      "           0       1.00      1.00      1.00       856\n",
      "           1       0.96      0.96      0.96        24\n",
      "           2       0.98      1.00      0.99        44\n",
      "\n",
      "   micro avg       1.00      1.00      1.00       924\n",
      "   macro avg       0.98      0.99      0.98       924\n",
      "weighted avg       1.00      1.00      1.00       924\n",
      "\n",
      "CV Prediction with missing on antithyroid medication column\n",
      "               precision    recall  f1-score   support\n",
      "\n",
      "           0       1.00      1.00      1.00       856\n",
      "           1       0.96      0.96      0.96        24\n",
      "           2       0.98      1.00      0.99        44\n",
      "\n",
      "   micro avg       1.00      1.00      1.00       924\n",
      "   macro avg       0.98      0.99      0.98       924\n",
      "weighted avg       1.00      1.00      1.00       924\n",
      "\n",
      "CV Prediction with missing sick column\n",
      "               precision    recall  f1-score   support\n",
      "\n",
      "           0       1.00      1.00      1.00       856\n",
      "           1       0.96      0.96      0.96        24\n",
      "           2       0.98      1.00      0.99        44\n",
      "\n",
      "   micro avg       1.00      1.00      1.00       924\n",
      "   macro avg       0.98      0.99      0.98       924\n",
      "weighted avg       1.00      1.00      1.00       924\n",
      "\n",
      "CV Prediction with missing pregnant column\n",
      "               precision    recall  f1-score   support\n",
      "\n",
      "           0       1.00      1.00      1.00       856\n",
      "           1       0.96      0.96      0.96        24\n",
      "           2       0.98      1.00      0.99        44\n",
      "\n",
      "   micro avg       1.00      1.00      1.00       924\n",
      "   macro avg       0.98      0.99      0.98       924\n",
      "weighted avg       1.00      1.00      1.00       924\n",
      "\n",
      "CV Prediction with missing thyroid surgery column\n",
      "               precision    recall  f1-score   support\n",
      "\n",
      "           0       1.00      1.00      1.00       856\n",
      "           1       0.96      0.92      0.94        24\n",
      "           2       0.90      1.00      0.95        44\n",
      "\n",
      "   micro avg       0.99      0.99      0.99       924\n",
      "   macro avg       0.95      0.97      0.96       924\n",
      "weighted avg       0.99      0.99      0.99       924\n",
      "\n",
      "CV Prediction with missing I131 treatment column\n",
      "               precision    recall  f1-score   support\n",
      "\n",
      "           0       1.00      1.00      1.00       856\n",
      "           1       0.96      0.96      0.96        24\n",
      "           2       0.98      1.00      0.99        44\n",
      "\n",
      "   micro avg       1.00      1.00      1.00       924\n",
      "   macro avg       0.98      0.99      0.98       924\n",
      "weighted avg       1.00      1.00      1.00       924\n",
      "\n",
      "CV Prediction with missing query hypothyroid column\n",
      "               precision    recall  f1-score   support\n",
      "\n",
      "           0       1.00      1.00      1.00       856\n",
      "           1       0.96      0.96      0.96        24\n",
      "           2       0.98      1.00      0.99        44\n",
      "\n",
      "   micro avg       1.00      1.00      1.00       924\n",
      "   macro avg       0.98      0.99      0.98       924\n",
      "weighted avg       1.00      1.00      1.00       924\n",
      "\n",
      "CV Prediction with missing query hyperthyroid column\n",
      "               precision    recall  f1-score   support\n",
      "\n",
      "           0       1.00      1.00      1.00       856\n",
      "           1       0.96      0.96      0.96        24\n",
      "           2       0.98      1.00      0.99        44\n",
      "\n",
      "   micro avg       1.00      1.00      1.00       924\n",
      "   macro avg       0.98      0.99      0.98       924\n",
      "weighted avg       1.00      1.00      1.00       924\n",
      "\n",
      "CV Prediction with missing lithium column\n",
      "               precision    recall  f1-score   support\n",
      "\n",
      "           0       1.00      1.00      1.00       856\n",
      "           1       0.96      0.96      0.96        24\n",
      "           2       0.98      1.00      0.99        44\n",
      "\n",
      "   micro avg       1.00      1.00      1.00       924\n",
      "   macro avg       0.98      0.99      0.98       924\n",
      "weighted avg       1.00      1.00      1.00       924\n",
      "\n",
      "CV Prediction with missing goitre column\n",
      "               precision    recall  f1-score   support\n",
      "\n",
      "           0       1.00      1.00      1.00       856\n",
      "           1       0.96      0.96      0.96        24\n",
      "           2       0.98      1.00      0.99        44\n",
      "\n",
      "   micro avg       1.00      1.00      1.00       924\n",
      "   macro avg       0.98      0.99      0.98       924\n",
      "weighted avg       1.00      1.00      1.00       924\n",
      "\n",
      "CV Prediction with missing tumor column\n",
      "               precision    recall  f1-score   support\n",
      "\n",
      "           0       1.00      1.00      1.00       856\n",
      "           1       0.96      0.96      0.96        24\n",
      "           2       0.98      1.00      0.99        44\n",
      "\n",
      "   micro avg       1.00      1.00      1.00       924\n",
      "   macro avg       0.98      0.99      0.98       924\n",
      "weighted avg       1.00      1.00      1.00       924\n",
      "\n",
      "CV Prediction with missing hypopituitary column\n",
      "               precision    recall  f1-score   support\n",
      "\n",
      "           0       1.00      1.00      1.00       856\n",
      "           1       0.96      0.96      0.96        24\n",
      "           2       0.98      1.00      0.99        44\n",
      "\n",
      "   micro avg       1.00      1.00      1.00       924\n",
      "   macro avg       0.98      0.99      0.98       924\n",
      "weighted avg       1.00      1.00      1.00       924\n",
      "\n",
      "CV Prediction with missing psych column\n",
      "               precision    recall  f1-score   support\n",
      "\n",
      "           0       1.00      1.00      1.00       856\n",
      "           1       0.96      0.96      0.96        24\n",
      "           2       0.98      1.00      0.99        44\n",
      "\n",
      "   micro avg       1.00      1.00      1.00       924\n",
      "   macro avg       0.98      0.99      0.98       924\n",
      "weighted avg       1.00      1.00      1.00       924\n",
      "\n",
      "CV Prediction with missing TSH measured column\n",
      "               precision    recall  f1-score   support\n",
      "\n",
      "           0       1.00      1.00      1.00       856\n",
      "           1       0.96      0.96      0.96        24\n",
      "           2       0.98      1.00      0.99        44\n",
      "\n",
      "   micro avg       1.00      1.00      1.00       924\n",
      "   macro avg       0.98      0.99      0.98       924\n",
      "weighted avg       1.00      1.00      1.00       924\n",
      "\n",
      "CV Prediction with missing T3 measured column\n",
      "               precision    recall  f1-score   support\n",
      "\n",
      "           0       1.00      1.00      1.00       856\n",
      "           1       0.96      0.96      0.96        24\n",
      "           2       0.98      1.00      0.99        44\n",
      "\n",
      "   micro avg       1.00      1.00      1.00       924\n",
      "   macro avg       0.98      0.99      0.98       924\n",
      "weighted avg       1.00      1.00      1.00       924\n",
      "\n",
      "CV Prediction with missing TT4 measured column\n",
      "               precision    recall  f1-score   support\n",
      "\n",
      "           0       1.00      1.00      1.00       856\n",
      "           1       0.96      0.92      0.94        24\n",
      "           2       0.96      1.00      0.98        44\n",
      "\n",
      "   micro avg       1.00      1.00      1.00       924\n",
      "   macro avg       0.97      0.97      0.97       924\n",
      "weighted avg       1.00      1.00      1.00       924\n",
      "\n",
      "CV Prediction with missing T4U measured column\n",
      "               precision    recall  f1-score   support\n",
      "\n",
      "           0       1.00      1.00      1.00       856\n",
      "           1       0.96      0.96      0.96        24\n",
      "           2       0.98      1.00      0.99        44\n",
      "\n",
      "   micro avg       1.00      1.00      1.00       924\n",
      "   macro avg       0.98      0.99      0.98       924\n",
      "weighted avg       1.00      1.00      1.00       924\n",
      "\n",
      "CV Prediction with missing FTI measured column\n",
      "               precision    recall  f1-score   support\n",
      "\n",
      "           0       1.00      1.00      1.00       856\n",
      "           1       0.96      0.96      0.96        24\n",
      "           2       0.98      1.00      0.99        44\n",
      "\n",
      "   micro avg       1.00      1.00      1.00       924\n",
      "   macro avg       0.98      0.99      0.98       924\n",
      "weighted avg       1.00      1.00      1.00       924\n",
      "\n"
     ]
    },
    {
     "name": "stdout",
     "output_type": "stream",
     "text": [
      "CV Prediction with missing referral source column\n",
      "               precision    recall  f1-score   support\n",
      "\n",
      "           0       1.00      1.00      1.00       856\n",
      "           1       0.96      0.96      0.96        24\n",
      "           2       0.96      1.00      0.98        44\n",
      "\n",
      "   micro avg       1.00      1.00      1.00       924\n",
      "   macro avg       0.97      0.99      0.98       924\n",
      "weighted avg       1.00      1.00      1.00       924\n",
      "\n"
     ]
    }
   ],
   "source": [
    "y_cv_pred_dict_cat ={}\n",
    "for i in range(cat_len):\n",
    "    feature_cat = [ 'sex', 'on thyroxine', 'query on thyroxine','on antithyroid medication', 'sick',\n",
    "               'pregnant', 'thyroid surgery','I131 treatment', 'query hypothyroid', \n",
    "               'query hyperthyroid', 'lithium', 'goitre', 'tumor', 'hypopituitary', 'psych', \n",
    "               'TSH measured', 'T3 measured', 'TT4 measured', 'T4U measured', 'FTI measured', 'referral source']\n",
    "    popped = feature_cat.pop(i)\n",
    "    onehot_encoder = OneHotEncoder(sparse=False,  handle_unknown='ignore')\n",
    "    \n",
    "    X_cat = onehot_encoder.fit_transform(df[feature_cat])\n",
    "    X_num = df[feature_num].values\n",
    "    X = np.concatenate((X_num, X_cat), axis=1) \n",
    "    y = df['classes'].values.astype(int)\n",
    "    \n",
    "    X_train, X_cv, y_train, y_cv = train_test_split(X, y, test_size=0.33, random_state=101)\n",
    "    xgb = XGBClassifier()\n",
    "    \n",
    "    xgb_model = xgb.fit(X_train, y_train)\n",
    "    # y_train_pred = xgb_model.predict(X_train)\n",
    "    y_cv_pred = xgb_model.predict(X_cv)\n",
    "    report_df = classification_report_df(classification_report(y_cv, y_cv_pred))\n",
    "    y_cv_pred_dict_cat[\"missing \" + popped] = report_df\n",
    "    print(f\"CV Prediction with missing {popped} column\\n\", classification_report(y_cv, y_cv_pred))"
   ]
  },
  {
   "cell_type": "code",
   "execution_count": 17,
   "metadata": {},
   "outputs": [
    {
     "data": {
      "image/png": "[encoded data removed]",
      "text/plain": [
       "<Figure size 1080x432 with 3 Axes>"
      ]
     },
     "metadata": {
      "needs_background": "light"
     },
     "output_type": "display_data"
    }
   ],
   "source": [
    "fig, ax = plt.subplots(1, 3, figsize=(15, 6))\n",
    "fig.suptitle(\"F1 scores with missing numeric columns\", size=16)\n",
    "for i in range(3):\n",
    "    \n",
    "    class_names, f1_scores = predict_with_miss(y_cv_pred_dict_cat, disease_class=i)\n",
    "    ax[i].barh(class_names, f1_scores, color = 'tab:green', alpha = 0.85)\n",
    "    titles = [\"Class 0 (No disease)\",\n",
    "             \"Class 1 (primary hypothyroid)\",\n",
    "             \"Class 2 (compensated hypothyroid)\"]\n",
    "    ax[i].set_title(titles[i])\n",
    "    plt.tight_layout()\n",
    "plt.subplots_adjust(top=0.80)"
   ]
  },
  {
   "cell_type": "code",
   "execution_count": 18,
   "metadata": {},
   "outputs": [
    {
     "data": {
      "text/html": [
       "<div>\n",
       "<style scoped>\n",
       "    .dataframe tbody tr th:only-of-type {\n",
       "        vertical-align: middle;\n",
       "    }\n",
       "\n",
       "    .dataframe tbody tr th {\n",
       "        vertical-align: top;\n",
       "    }\n",
       "\n",
       "    .dataframe thead th {\n",
       "        text-align: right;\n",
       "    }\n",
       "</style>\n",
       "<table border=\"1\" class=\"dataframe\">\n",
       "  <thead>\n",
       "    <tr style=\"text-align: right;\">\n",
       "      <th></th>\n",
       "      <th>class</th>\n",
       "      <th>precision</th>\n",
       "      <th>recall</th>\n",
       "      <th>f1-score</th>\n",
       "      <th>support</th>\n",
       "    </tr>\n",
       "  </thead>\n",
       "  <tbody>\n",
       "    <tr>\n",
       "      <th>0</th>\n",
       "      <td>0</td>\n",
       "      <td>1.00</td>\n",
       "      <td>1.00</td>\n",
       "      <td>1.00</td>\n",
       "      <td>856.0</td>\n",
       "    </tr>\n",
       "    <tr>\n",
       "      <th>1</th>\n",
       "      <td>1</td>\n",
       "      <td>0.96</td>\n",
       "      <td>0.96</td>\n",
       "      <td>0.96</td>\n",
       "      <td>24.0</td>\n",
       "    </tr>\n",
       "    <tr>\n",
       "      <th>2</th>\n",
       "      <td>2</td>\n",
       "      <td>0.98</td>\n",
       "      <td>1.00</td>\n",
       "      <td>0.99</td>\n",
       "      <td>44.0</td>\n",
       "    </tr>\n",
       "    <tr>\n",
       "      <th>3</th>\n",
       "      <td>NaN</td>\n",
       "      <td>NaN</td>\n",
       "      <td>NaN</td>\n",
       "      <td>NaN</td>\n",
       "      <td>NaN</td>\n",
       "    </tr>\n",
       "    <tr>\n",
       "      <th>4</th>\n",
       "      <td>micro avg</td>\n",
       "      <td>1.00</td>\n",
       "      <td>1.00</td>\n",
       "      <td>1.00</td>\n",
       "      <td>924.0</td>\n",
       "    </tr>\n",
       "  </tbody>\n",
       "</table>\n",
       "</div>"
      ],
      "text/plain": [
       "          class  precision  recall  f1-score  support\n",
       "0             0       1.00    1.00      1.00    856.0\n",
       "1             1       0.96    0.96      0.96     24.0\n",
       "2             2       0.98    1.00      0.99     44.0\n",
       "3           NaN        NaN     NaN       NaN      NaN\n",
       "4     micro avg       1.00    1.00      1.00    924.0"
      ]
     },
     "execution_count": 18,
     "metadata": {},
     "output_type": "execute_result"
    }
   ],
   "source": [
    "df_pred_all_features = pd.read_csv(\"XGBoost classification on cross_validation data.csv\")\n",
    "df_pred_all_features"
   ]
  },
  {
   "cell_type": "code",
   "execution_count": 19,
   "metadata": {},
   "outputs": [
    {
     "data": {
      "image/png": "[encoded data removed]",
      "text/plain": [
       "<Figure size 720x216 with 3 Axes>"
      ]
     },
     "metadata": {
      "needs_background": "light"
     },
     "output_type": "display_data"
    }
   ],
   "source": [
    "fig, ax = plt.subplots(1, 3, figsize=(10, 3))\n",
    "fig.suptitle(\"F1 scores with missing numeric columns minus F1 scores with all columns\", size=16)\n",
    "for i in range(3):\n",
    "    \n",
    "    class_names, f1_scores = predict_with_miss(y_cv_pred_dict, disease_class=i)\n",
    "    diff = f1_scores-df_pred_all_features.loc[i, \"f1-score\"]\n",
    "    ax[i].barh(class_names, diff, color = 'tab:green', alpha = 0.85)\n",
    "    x_lim_val = [(-0.04, 0.01), (-0.16, 0.02), (-1, 0.05)]\n",
    "    ax[i].set_xlim(x_lim_val[i])\n",
    "    titles = [\"Class 0 (No disease)\",\n",
    "             \"Class 1 (primary hypothyroid)\",\n",
    "             \"Class 2 (compensated hypothyroid)\"]\n",
    "    ax[i].set_title(titles[i])\n",
    "    plt.tight_layout()\n",
    "plt.subplots_adjust(top=0.80)\n",
    "plt.savefig(\"Missing numeric feature comparison.png\", dpi=110)"
   ]
  },
  {
   "cell_type": "code",
   "execution_count": 20,
   "metadata": {},
   "outputs": [
    {
     "data": {
      "image/png": "[encoded data removed]",
      "text/plain": [
       "<Figure size 1080x648 with 3 Axes>"
      ]
     },
     "metadata": {
      "needs_background": "light"
     },
     "output_type": "display_data"
    }
   ],
   "source": [
    "fig, ax = plt.subplots(1, 3, figsize=(15, 9))\n",
    "fig.suptitle(\"F1 scores with missing categorical columns minus F1 scores with all columns\", size=16)\n",
    "for i in range(3):\n",
    "    class_miss_cat_names, f1_scores = predict_with_miss(y_cv_pred_dict_cat, disease_class=i)\n",
    "    diff = f1_scores - df_pred_all_features.loc[i, \"f1-score\"]\n",
    "    ax[i].barh(class_miss_cat_names, diff, color = 'tab:green', alpha = 0.85)\n",
    "    x_lim_val = [(-0.05, 0.01), (-0.04, 0.02), (-0.3, 0.05)]\n",
    "    ax[i].set_xlim(x_lim_val[i])\n",
    "    titles = [\"Class 0 (No disease)\",\n",
    "             \"Class 1 (primary hypothyroid)\",\n",
    "             \"Class 2 (compensated hypothyroid)\"]\n",
    "    ax[i].set_title(titles[i])\n",
    "    plt.tight_layout()\n",
    "plt.subplots_adjust(top=0.9)\n",
    "plt.savefig(\"Missing categorical feature comparison.png\", dpi=90)"
   ]
  },
  {
   "cell_type": "code",
   "execution_count": 21,
   "metadata": {},
   "outputs": [],
   "source": [
    "mini_model_features = [\"TSH_ln\", \"TT4\", \"FTI\", \"on thyroxine\", \"thyroid surgery\", \"TT4 measured\", \"referral source\"]"
   ]
  },
  {
   "cell_type": "code",
   "execution_count": 22,
   "metadata": {},
   "outputs": [],
   "source": [
    "df_mini = df[mini_model_features]"
   ]
  },
  {
   "cell_type": "code",
   "execution_count": 23,
   "metadata": {},
   "outputs": [
    {
     "data": {
      "text/html": [
       "<div>\n",
       "<style scoped>\n",
       "    .dataframe tbody tr th:only-of-type {\n",
       "        vertical-align: middle;\n",
       "    }\n",
       "\n",
       "    .dataframe tbody tr th {\n",
       "        vertical-align: top;\n",
       "    }\n",
       "\n",
       "    .dataframe thead th {\n",
       "        text-align: right;\n",
       "    }\n",
       "</style>\n",
       "<table border=\"1\" class=\"dataframe\">\n",
       "  <thead>\n",
       "    <tr style=\"text-align: right;\">\n",
       "      <th></th>\n",
       "      <th>TSH_ln</th>\n",
       "      <th>TT4</th>\n",
       "      <th>FTI</th>\n",
       "      <th>on thyroxine</th>\n",
       "      <th>thyroid surgery</th>\n",
       "      <th>TT4 measured</th>\n",
       "      <th>referral source</th>\n",
       "    </tr>\n",
       "  </thead>\n",
       "  <tbody>\n",
       "    <tr>\n",
       "      <th>0</th>\n",
       "      <td>0.262364</td>\n",
       "      <td>125.0</td>\n",
       "      <td>109.000000</td>\n",
       "      <td>0</td>\n",
       "      <td>0</td>\n",
       "      <td>1</td>\n",
       "      <td>3</td>\n",
       "    </tr>\n",
       "    <tr>\n",
       "      <th>1</th>\n",
       "      <td>1.410987</td>\n",
       "      <td>102.0</td>\n",
       "      <td>110.788002</td>\n",
       "      <td>0</td>\n",
       "      <td>0</td>\n",
       "      <td>1</td>\n",
       "      <td>0</td>\n",
       "    </tr>\n",
       "    <tr>\n",
       "      <th>2</th>\n",
       "      <td>-0.020203</td>\n",
       "      <td>109.0</td>\n",
       "      <td>120.000000</td>\n",
       "      <td>0</td>\n",
       "      <td>0</td>\n",
       "      <td>1</td>\n",
       "      <td>0</td>\n",
       "    </tr>\n",
       "    <tr>\n",
       "      <th>3</th>\n",
       "      <td>-1.832582</td>\n",
       "      <td>175.0</td>\n",
       "      <td>110.788002</td>\n",
       "      <td>1</td>\n",
       "      <td>0</td>\n",
       "      <td>1</td>\n",
       "      <td>0</td>\n",
       "    </tr>\n",
       "    <tr>\n",
       "      <th>4</th>\n",
       "      <td>-0.328504</td>\n",
       "      <td>61.0</td>\n",
       "      <td>70.000000</td>\n",
       "      <td>0</td>\n",
       "      <td>0</td>\n",
       "      <td>1</td>\n",
       "      <td>1</td>\n",
       "    </tr>\n",
       "  </tbody>\n",
       "</table>\n",
       "</div>"
      ],
      "text/plain": [
       "     TSH_ln    TT4         FTI  on thyroxine  thyroid surgery  TT4 measured  \\\n",
       "0  0.262364  125.0  109.000000             0                0             1   \n",
       "1  1.410987  102.0  110.788002             0                0             1   \n",
       "2 -0.020203  109.0  120.000000             0                0             1   \n",
       "3 -1.832582  175.0  110.788002             1                0             1   \n",
       "4 -0.328504   61.0   70.000000             0                0             1   \n",
       "\n",
       "   referral source  \n",
       "0                3  \n",
       "1                0  \n",
       "2                0  \n",
       "3                0  \n",
       "4                1  "
      ]
     },
     "execution_count": 23,
     "metadata": {},
     "output_type": "execute_result"
    }
   ],
   "source": [
    "df_mini.head()"
   ]
  },
  {
   "cell_type": "code",
   "execution_count": 24,
   "metadata": {},
   "outputs": [],
   "source": [
    "cat_feat_mini = [\"on thyroxine\", \"thyroid surgery\", \"TT4 measured\", \"referral source\"]"
   ]
  },
  {
   "cell_type": "code",
   "execution_count": 25,
   "metadata": {},
   "outputs": [],
   "source": [
    "onehot_enc_mini = OneHotEncoder(sparse=False)"
   ]
  },
  {
   "cell_type": "code",
   "execution_count": 26,
   "metadata": {},
   "outputs": [
    {
     "name": "stderr",
     "output_type": "stream",
     "text": [
      "/home/jun3/anaconda3/lib/python3.7/site-packages/sklearn/preprocessing/_encoders.py:371: FutureWarning: The handling of integer data will change in version 0.22. Currently, the categories are determined based on the range [0, max(values)], while in the future they will be determined based on the unique values.\n",
      "If you want the future behaviour and silence this warning, you can specify \"categories='auto'\".\n",
      "In case you used a LabelEncoder before this OneHotEncoder to convert the categories to integers, then you can now use the OneHotEncoder directly.\n",
      "  warnings.warn(msg, FutureWarning)\n"
     ]
    }
   ],
   "source": [
    "Xmcat = onehot_enc_mini.fit_transform(df_mini[cat_feat_mini])"
   ]
  },
  {
   "cell_type": "code",
   "execution_count": 27,
   "metadata": {},
   "outputs": [
    {
     "data": {
      "text/plain": [
       "(2800, 11)"
      ]
     },
     "execution_count": 27,
     "metadata": {},
     "output_type": "execute_result"
    }
   ],
   "source": [
    "Xmcat.shape"
   ]
  },
  {
   "cell_type": "code",
   "execution_count": 28,
   "metadata": {},
   "outputs": [],
   "source": [
    "Xmnum = df_mini[[\"TSH_ln\", \"TT4\", \"FTI\"]].values"
   ]
  },
  {
   "cell_type": "code",
   "execution_count": 29,
   "metadata": {},
   "outputs": [],
   "source": [
    "Xm = np.concatenate((Xmnum, Xmcat), axis=1)"
   ]
  },
  {
   "cell_type": "code",
   "execution_count": 30,
   "metadata": {},
   "outputs": [
    {
     "data": {
      "text/plain": [
       "(2800, 14)"
      ]
     },
     "execution_count": 30,
     "metadata": {},
     "output_type": "execute_result"
    }
   ],
   "source": [
    "Xm.shape"
   ]
  },
  {
   "cell_type": "code",
   "execution_count": 31,
   "metadata": {},
   "outputs": [],
   "source": [
    "y = df['classes'].values"
   ]
  },
  {
   "cell_type": "code",
   "execution_count": 32,
   "metadata": {},
   "outputs": [],
   "source": [
    "Xm_train, Xm_cv, y_train, y_cv = train_test_split(Xm, y, test_size=0.33, random_state=101)"
   ]
  },
  {
   "cell_type": "code",
   "execution_count": 33,
   "metadata": {},
   "outputs": [],
   "source": [
    "xgb_model_mini = xgb.fit(Xm_train, y_train)"
   ]
  },
  {
   "cell_type": "code",
   "execution_count": 34,
   "metadata": {},
   "outputs": [],
   "source": [
    "y_cv_pred_mini = xgb_model_mini.predict(Xm_cv)"
   ]
  },
  {
   "cell_type": "code",
   "execution_count": 35,
   "metadata": {},
   "outputs": [
    {
     "name": "stdout",
     "output_type": "stream",
     "text": [
      "Classification report on the cross-validation data with minimum feature model\n",
      "\n",
      "               precision    recall  f1-score   support\n",
      "\n",
      "           0       1.00      1.00      1.00       856\n",
      "           1       0.96      0.92      0.94        24\n",
      "           2       0.96      1.00      0.98        44\n",
      "\n",
      "   micro avg       1.00      1.00      1.00       924\n",
      "   macro avg       0.97      0.97      0.97       924\n",
      "weighted avg       1.00      1.00      1.00       924\n",
      "\n",
      "Confusion_matrix\n",
      "\n",
      " [[854   1   1]\n",
      " [  1  22   1]\n",
      " [  0   0  44]]\n"
     ]
    }
   ],
   "source": [
    "print(\"Classification report on the cross-validation data with minimum feature model\\n\\n\", classification_report(y_cv, y_cv_pred_mini))\n",
    "print('Confusion_matrix\\n\\n', confusion_matrix(y_cv, y_cv_pred_mini))"
   ]
  },
  {
   "cell_type": "code",
   "execution_count": 45,
   "metadata": {},
   "outputs": [],
   "source": [
    "def class_reportDf(report):\n",
    "    rep = report.split('\\n')\n",
    "    column_names = ['class']\n",
    "    report_out =[]\n",
    "    for i in rep[0].split():\n",
    "        column_names.append(i)\n",
    "    for row in rep[2:6]:\n",
    "        report_out.append(row.split())\n",
    "    if rep[6]!='':\n",
    "        report_out.append(rep[6].split('      '))\n",
    "    elif rep[6]=='' and rep[7]!='':\n",
    "        report_out.append(rep[7].split('      '))\n",
    "        \n",
    "    report_df = pd.DataFrame(report_out)\n",
    "    report_df.columns = column_names\n",
    "    return report_df"
   ]
  },
  {
   "cell_type": "code",
   "execution_count": 57,
   "metadata": {},
   "outputs": [],
   "source": [
    "XGB_MiniModel_cv_pred_df = class_reportDf(classification_report(y_cv, y_cv_pred_mini))\n",
    "XGB_MiniModel_cv_pred_df.to_csv(\"XGBoost_mini classification on cross_validation data.csv\", index=False)"
   ]
  },
  {
   "cell_type": "code",
   "execution_count": 58,
   "metadata": {},
   "outputs": [
    {
     "data": {
      "text/html": [
       "<div>\n",
       "<style scoped>\n",
       "    .dataframe tbody tr th:only-of-type {\n",
       "        vertical-align: middle;\n",
       "    }\n",
       "\n",
       "    .dataframe tbody tr th {\n",
       "        vertical-align: top;\n",
       "    }\n",
       "\n",
       "    .dataframe thead th {\n",
       "        text-align: right;\n",
       "    }\n",
       "</style>\n",
       "<table border=\"1\" class=\"dataframe\">\n",
       "  <thead>\n",
       "    <tr style=\"text-align: right;\">\n",
       "      <th></th>\n",
       "      <th>class</th>\n",
       "      <th>precision</th>\n",
       "      <th>recall</th>\n",
       "      <th>f1-score</th>\n",
       "      <th>support</th>\n",
       "    </tr>\n",
       "  </thead>\n",
       "  <tbody>\n",
       "    <tr>\n",
       "      <th>0</th>\n",
       "      <td>0</td>\n",
       "      <td>1.00</td>\n",
       "      <td>1.00</td>\n",
       "      <td>1.00</td>\n",
       "      <td>856.0</td>\n",
       "    </tr>\n",
       "    <tr>\n",
       "      <th>1</th>\n",
       "      <td>1</td>\n",
       "      <td>0.96</td>\n",
       "      <td>0.92</td>\n",
       "      <td>0.94</td>\n",
       "      <td>24.0</td>\n",
       "    </tr>\n",
       "    <tr>\n",
       "      <th>2</th>\n",
       "      <td>2</td>\n",
       "      <td>0.96</td>\n",
       "      <td>1.00</td>\n",
       "      <td>0.98</td>\n",
       "      <td>44.0</td>\n",
       "    </tr>\n",
       "    <tr>\n",
       "      <th>3</th>\n",
       "      <td>NaN</td>\n",
       "      <td>NaN</td>\n",
       "      <td>NaN</td>\n",
       "      <td>NaN</td>\n",
       "      <td>NaN</td>\n",
       "    </tr>\n",
       "    <tr>\n",
       "      <th>4</th>\n",
       "      <td>micro avg</td>\n",
       "      <td>1.00</td>\n",
       "      <td>1.00</td>\n",
       "      <td>1.00</td>\n",
       "      <td>924.0</td>\n",
       "    </tr>\n",
       "  </tbody>\n",
       "</table>\n",
       "</div>"
      ],
      "text/plain": [
       "          class  precision  recall  f1-score  support\n",
       "0             0       1.00    1.00      1.00    856.0\n",
       "1             1       0.96    0.92      0.94     24.0\n",
       "2             2       0.96    1.00      0.98     44.0\n",
       "3           NaN        NaN     NaN       NaN      NaN\n",
       "4     micro avg       1.00    1.00      1.00    924.0"
      ]
     },
     "execution_count": 58,
     "metadata": {},
     "output_type": "execute_result"
    }
   ],
   "source": [
    "XGB_MiniModel_cv_pred_df = pd.read_csv(\"XGBoost_mini classification on cross_validation data.csv\")\n",
    "XGB_MiniModel_cv_pred_df"
   ]
  },
  {
   "cell_type": "code",
   "execution_count": 59,
   "metadata": {},
   "outputs": [],
   "source": [
    "XGB_full_cv_pred_df = pd.read_csv(\"XGBoost classification on cross_validation data.csv\")"
   ]
  },
  {
   "cell_type": "code",
   "execution_count": 60,
   "metadata": {},
   "outputs": [
    {
     "data": {
      "text/html": [
       "<div>\n",
       "<style scoped>\n",
       "    .dataframe tbody tr th:only-of-type {\n",
       "        vertical-align: middle;\n",
       "    }\n",
       "\n",
       "    .dataframe tbody tr th {\n",
       "        vertical-align: top;\n",
       "    }\n",
       "\n",
       "    .dataframe thead th {\n",
       "        text-align: right;\n",
       "    }\n",
       "</style>\n",
       "<table border=\"1\" class=\"dataframe\">\n",
       "  <thead>\n",
       "    <tr style=\"text-align: right;\">\n",
       "      <th></th>\n",
       "      <th>class</th>\n",
       "      <th>precision</th>\n",
       "      <th>recall</th>\n",
       "      <th>f1-score</th>\n",
       "      <th>support</th>\n",
       "    </tr>\n",
       "  </thead>\n",
       "  <tbody>\n",
       "    <tr>\n",
       "      <th>0</th>\n",
       "      <td>0</td>\n",
       "      <td>1.00</td>\n",
       "      <td>1.00</td>\n",
       "      <td>1.00</td>\n",
       "      <td>856.0</td>\n",
       "    </tr>\n",
       "    <tr>\n",
       "      <th>1</th>\n",
       "      <td>1</td>\n",
       "      <td>0.96</td>\n",
       "      <td>0.96</td>\n",
       "      <td>0.96</td>\n",
       "      <td>24.0</td>\n",
       "    </tr>\n",
       "    <tr>\n",
       "      <th>2</th>\n",
       "      <td>2</td>\n",
       "      <td>0.98</td>\n",
       "      <td>1.00</td>\n",
       "      <td>0.99</td>\n",
       "      <td>44.0</td>\n",
       "    </tr>\n",
       "    <tr>\n",
       "      <th>3</th>\n",
       "      <td>NaN</td>\n",
       "      <td>NaN</td>\n",
       "      <td>NaN</td>\n",
       "      <td>NaN</td>\n",
       "      <td>NaN</td>\n",
       "    </tr>\n",
       "    <tr>\n",
       "      <th>4</th>\n",
       "      <td>micro avg</td>\n",
       "      <td>1.00</td>\n",
       "      <td>1.00</td>\n",
       "      <td>1.00</td>\n",
       "      <td>924.0</td>\n",
       "    </tr>\n",
       "  </tbody>\n",
       "</table>\n",
       "</div>"
      ],
      "text/plain": [
       "          class  precision  recall  f1-score  support\n",
       "0             0       1.00    1.00      1.00    856.0\n",
       "1             1       0.96    0.96      0.96     24.0\n",
       "2             2       0.98    1.00      0.99     44.0\n",
       "3           NaN        NaN     NaN       NaN      NaN\n",
       "4     micro avg       1.00    1.00      1.00    924.0"
      ]
     },
     "execution_count": 60,
     "metadata": {},
     "output_type": "execute_result"
    }
   ],
   "source": [
    "XGB_full_cv_pred_df"
   ]
  },
  {
   "cell_type": "code",
   "execution_count": 84,
   "metadata": {},
   "outputs": [
    {
     "data": {
      "image/png": "[encoded data removed]",
      "text/plain": [
       "<Figure size 648x180 with 1 Axes>"
      ]
     },
     "metadata": {
      "needs_background": "light"
     },
     "output_type": "display_data"
    }
   ],
   "source": [
    "x = [\"XGB_mini class 0\", \"XGB class 0\", \"XGB_mini class 1\", \"XGB class 1\", \"XGB_mini class 2\", \"XGB class2\"]\n",
    "height=[XGB_MiniModel_cv_pred_df.loc[0, \"f1-score\"], XGB_full_cv_pred_df.loc[0, \"f1-score\"], XGB_MiniModel_cv_pred_df.loc[1, \"f1-score\"], XGB_full_cv_pred_df.loc[1, \"f1-score\"], XGB_MiniModel_cv_pred_df.loc[2, \"f1-score\"], XGB_full_cv_pred_df.loc[2, \"f1-score\"]]\n",
    "plt.figure(figsize = (9, 2.5))\n",
    "labels = [\"1\", \"1\", \"0.94\", \"0.96\", \"0.98\", \"0.99\"]\n",
    "positions = [-0.05, 0.95, 1.9, 2.9, 3.9, 4.9]\n",
    "for i in range(6):\n",
    "    plt.text(x=positions[i], y=0.5, s=labels[i], size=8)\n",
    "plt.bar(x, height, width = 0.35, color = ['tab:green', 'tab:blue', 'tab:green', 'tab:blue', 'tab:green', 'tab:blue'], alpha=0.8)\n",
    "plt.ylabel(\"F1 score\", size=14)\n",
    "plt.title(\"XGBoost Mini vs all_feature model F1-score comparison\")\n",
    "plt.savefig(\"XGB_Mini_vs_allfeatures.png\", dpi=150)"
   ]
  },
  {
   "cell_type": "code",
   "execution_count": null,
   "metadata": {},
   "outputs": [],
   "source": []
  }
 ],
 "metadata": {
  "kernelspec": {
   "display_name": "Python 3 (ipykernel)",
   "language": "python",
   "name": "python3"
  },
  "language_info": {
   "codemirror_mode": {
    "name": "ipython",
    "version": 3
   },
   "file_extension": ".py",
   "mimetype": "text/x-python",
   "name": "python",
   "nbconvert_exporter": "python",
   "pygments_lexer": "ipython3",
   "version": "3.8.2"
  }
 },
 "nbformat": 4,
 "nbformat_minor": 2
}
